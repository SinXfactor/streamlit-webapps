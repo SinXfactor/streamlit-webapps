{
 "cells": [
  {
   "cell_type": "code",
   "execution_count": 1,
   "metadata": {},
   "outputs": [],
   "source": [
    "import plotly.graph_objects as go"
   ]
  },
  {
   "attachments": {},
   "cell_type": "markdown",
   "metadata": {},
   "source": [
    "### Simple Example"
   ]
  },
  {
   "cell_type": "code",
   "execution_count": 4,
   "metadata": {},
   "outputs": [
    {
     "data": {
      "application/vnd.plotly.v1+json": {
       "config": {
        "plotlyServerURL": "https://plot.ly"
       },
       "data": [
        {
         "link": {
          "source": [
           0,
           1,
           2,
           2
          ],
          "target": [
           2,
           2,
           3,
           4
          ],
          "value": [
           10,
           2,
           6,
           4
          ]
         },
         "node": {
          "label": [
           "income",
           "other income",
           "total income",
           "rent",
           "food"
          ],
          "pad": 80,
          "thickness": 15
         },
         "type": "sankey"
        }
       ],
       "layout": {
        "template": {
         "data": {
          "bar": [
           {
            "error_x": {
             "color": "#2a3f5f"
            },
            "error_y": {
             "color": "#2a3f5f"
            },
            "marker": {
             "line": {
              "color": "#E5ECF6",
              "width": 0.5
             },
             "pattern": {
              "fillmode": "overlay",
              "size": 10,
              "solidity": 0.2
             }
            },
            "type": "bar"
           }
          ],
          "barpolar": [
           {
            "marker": {
             "line": {
              "color": "#E5ECF6",
              "width": 0.5
             },
             "pattern": {
              "fillmode": "overlay",
              "size": 10,
              "solidity": 0.2
             }
            },
            "type": "barpolar"
           }
          ],
          "carpet": [
           {
            "aaxis": {
             "endlinecolor": "#2a3f5f",
             "gridcolor": "white",
             "linecolor": "white",
             "minorgridcolor": "white",
             "startlinecolor": "#2a3f5f"
            },
            "baxis": {
             "endlinecolor": "#2a3f5f",
             "gridcolor": "white",
             "linecolor": "white",
             "minorgridcolor": "white",
             "startlinecolor": "#2a3f5f"
            },
            "type": "carpet"
           }
          ],
          "choropleth": [
           {
            "colorbar": {
             "outlinewidth": 0,
             "ticks": ""
            },
            "type": "choropleth"
           }
          ],
          "contour": [
           {
            "colorbar": {
             "outlinewidth": 0,
             "ticks": ""
            },
            "colorscale": [
             [
              0,
              "#0d0887"
             ],
             [
              0.1111111111111111,
              "#46039f"
             ],
             [
              0.2222222222222222,
              "#7201a8"
             ],
             [
              0.3333333333333333,
              "#9c179e"
             ],
             [
              0.4444444444444444,
              "#bd3786"
             ],
             [
              0.5555555555555556,
              "#d8576b"
             ],
             [
              0.6666666666666666,
              "#ed7953"
             ],
             [
              0.7777777777777778,
              "#fb9f3a"
             ],
             [
              0.8888888888888888,
              "#fdca26"
             ],
             [
              1,
              "#f0f921"
             ]
            ],
            "type": "contour"
           }
          ],
          "contourcarpet": [
           {
            "colorbar": {
             "outlinewidth": 0,
             "ticks": ""
            },
            "type": "contourcarpet"
           }
          ],
          "heatmap": [
           {
            "colorbar": {
             "outlinewidth": 0,
             "ticks": ""
            },
            "colorscale": [
             [
              0,
              "#0d0887"
             ],
             [
              0.1111111111111111,
              "#46039f"
             ],
             [
              0.2222222222222222,
              "#7201a8"
             ],
             [
              0.3333333333333333,
              "#9c179e"
             ],
             [
              0.4444444444444444,
              "#bd3786"
             ],
             [
              0.5555555555555556,
              "#d8576b"
             ],
             [
              0.6666666666666666,
              "#ed7953"
             ],
             [
              0.7777777777777778,
              "#fb9f3a"
             ],
             [
              0.8888888888888888,
              "#fdca26"
             ],
             [
              1,
              "#f0f921"
             ]
            ],
            "type": "heatmap"
           }
          ],
          "heatmapgl": [
           {
            "colorbar": {
             "outlinewidth": 0,
             "ticks": ""
            },
            "colorscale": [
             [
              0,
              "#0d0887"
             ],
             [
              0.1111111111111111,
              "#46039f"
             ],
             [
              0.2222222222222222,
              "#7201a8"
             ],
             [
              0.3333333333333333,
              "#9c179e"
             ],
             [
              0.4444444444444444,
              "#bd3786"
             ],
             [
              0.5555555555555556,
              "#d8576b"
             ],
             [
              0.6666666666666666,
              "#ed7953"
             ],
             [
              0.7777777777777778,
              "#fb9f3a"
             ],
             [
              0.8888888888888888,
              "#fdca26"
             ],
             [
              1,
              "#f0f921"
             ]
            ],
            "type": "heatmapgl"
           }
          ],
          "histogram": [
           {
            "marker": {
             "pattern": {
              "fillmode": "overlay",
              "size": 10,
              "solidity": 0.2
             }
            },
            "type": "histogram"
           }
          ],
          "histogram2d": [
           {
            "colorbar": {
             "outlinewidth": 0,
             "ticks": ""
            },
            "colorscale": [
             [
              0,
              "#0d0887"
             ],
             [
              0.1111111111111111,
              "#46039f"
             ],
             [
              0.2222222222222222,
              "#7201a8"
             ],
             [
              0.3333333333333333,
              "#9c179e"
             ],
             [
              0.4444444444444444,
              "#bd3786"
             ],
             [
              0.5555555555555556,
              "#d8576b"
             ],
             [
              0.6666666666666666,
              "#ed7953"
             ],
             [
              0.7777777777777778,
              "#fb9f3a"
             ],
             [
              0.8888888888888888,
              "#fdca26"
             ],
             [
              1,
              "#f0f921"
             ]
            ],
            "type": "histogram2d"
           }
          ],
          "histogram2dcontour": [
           {
            "colorbar": {
             "outlinewidth": 0,
             "ticks": ""
            },
            "colorscale": [
             [
              0,
              "#0d0887"
             ],
             [
              0.1111111111111111,
              "#46039f"
             ],
             [
              0.2222222222222222,
              "#7201a8"
             ],
             [
              0.3333333333333333,
              "#9c179e"
             ],
             [
              0.4444444444444444,
              "#bd3786"
             ],
             [
              0.5555555555555556,
              "#d8576b"
             ],
             [
              0.6666666666666666,
              "#ed7953"
             ],
             [
              0.7777777777777778,
              "#fb9f3a"
             ],
             [
              0.8888888888888888,
              "#fdca26"
             ],
             [
              1,
              "#f0f921"
             ]
            ],
            "type": "histogram2dcontour"
           }
          ],
          "mesh3d": [
           {
            "colorbar": {
             "outlinewidth": 0,
             "ticks": ""
            },
            "type": "mesh3d"
           }
          ],
          "parcoords": [
           {
            "line": {
             "colorbar": {
              "outlinewidth": 0,
              "ticks": ""
             }
            },
            "type": "parcoords"
           }
          ],
          "pie": [
           {
            "automargin": true,
            "type": "pie"
           }
          ],
          "scatter": [
           {
            "fillpattern": {
             "fillmode": "overlay",
             "size": 10,
             "solidity": 0.2
            },
            "type": "scatter"
           }
          ],
          "scatter3d": [
           {
            "line": {
             "colorbar": {
              "outlinewidth": 0,
              "ticks": ""
             }
            },
            "marker": {
             "colorbar": {
              "outlinewidth": 0,
              "ticks": ""
             }
            },
            "type": "scatter3d"
           }
          ],
          "scattercarpet": [
           {
            "marker": {
             "colorbar": {
              "outlinewidth": 0,
              "ticks": ""
             }
            },
            "type": "scattercarpet"
           }
          ],
          "scattergeo": [
           {
            "marker": {
             "colorbar": {
              "outlinewidth": 0,
              "ticks": ""
             }
            },
            "type": "scattergeo"
           }
          ],
          "scattergl": [
           {
            "marker": {
             "colorbar": {
              "outlinewidth": 0,
              "ticks": ""
             }
            },
            "type": "scattergl"
           }
          ],
          "scattermapbox": [
           {
            "marker": {
             "colorbar": {
              "outlinewidth": 0,
              "ticks": ""
             }
            },
            "type": "scattermapbox"
           }
          ],
          "scatterpolar": [
           {
            "marker": {
             "colorbar": {
              "outlinewidth": 0,
              "ticks": ""
             }
            },
            "type": "scatterpolar"
           }
          ],
          "scatterpolargl": [
           {
            "marker": {
             "colorbar": {
              "outlinewidth": 0,
              "ticks": ""
             }
            },
            "type": "scatterpolargl"
           }
          ],
          "scatterternary": [
           {
            "marker": {
             "colorbar": {
              "outlinewidth": 0,
              "ticks": ""
             }
            },
            "type": "scatterternary"
           }
          ],
          "surface": [
           {
            "colorbar": {
             "outlinewidth": 0,
             "ticks": ""
            },
            "colorscale": [
             [
              0,
              "#0d0887"
             ],
             [
              0.1111111111111111,
              "#46039f"
             ],
             [
              0.2222222222222222,
              "#7201a8"
             ],
             [
              0.3333333333333333,
              "#9c179e"
             ],
             [
              0.4444444444444444,
              "#bd3786"
             ],
             [
              0.5555555555555556,
              "#d8576b"
             ],
             [
              0.6666666666666666,
              "#ed7953"
             ],
             [
              0.7777777777777778,
              "#fb9f3a"
             ],
             [
              0.8888888888888888,
              "#fdca26"
             ],
             [
              1,
              "#f0f921"
             ]
            ],
            "type": "surface"
           }
          ],
          "table": [
           {
            "cells": {
             "fill": {
              "color": "#EBF0F8"
             },
             "line": {
              "color": "white"
             }
            },
            "header": {
             "fill": {
              "color": "#C8D4E3"
             },
             "line": {
              "color": "white"
             }
            },
            "type": "table"
           }
          ]
         },
         "layout": {
          "annotationdefaults": {
           "arrowcolor": "#2a3f5f",
           "arrowhead": 0,
           "arrowwidth": 1
          },
          "autotypenumbers": "strict",
          "coloraxis": {
           "colorbar": {
            "outlinewidth": 0,
            "ticks": ""
           }
          },
          "colorscale": {
           "diverging": [
            [
             0,
             "#8e0152"
            ],
            [
             0.1,
             "#c51b7d"
            ],
            [
             0.2,
             "#de77ae"
            ],
            [
             0.3,
             "#f1b6da"
            ],
            [
             0.4,
             "#fde0ef"
            ],
            [
             0.5,
             "#f7f7f7"
            ],
            [
             0.6,
             "#e6f5d0"
            ],
            [
             0.7,
             "#b8e186"
            ],
            [
             0.8,
             "#7fbc41"
            ],
            [
             0.9,
             "#4d9221"
            ],
            [
             1,
             "#276419"
            ]
           ],
           "sequential": [
            [
             0,
             "#0d0887"
            ],
            [
             0.1111111111111111,
             "#46039f"
            ],
            [
             0.2222222222222222,
             "#7201a8"
            ],
            [
             0.3333333333333333,
             "#9c179e"
            ],
            [
             0.4444444444444444,
             "#bd3786"
            ],
            [
             0.5555555555555556,
             "#d8576b"
            ],
            [
             0.6666666666666666,
             "#ed7953"
            ],
            [
             0.7777777777777778,
             "#fb9f3a"
            ],
            [
             0.8888888888888888,
             "#fdca26"
            ],
            [
             1,
             "#f0f921"
            ]
           ],
           "sequentialminus": [
            [
             0,
             "#0d0887"
            ],
            [
             0.1111111111111111,
             "#46039f"
            ],
            [
             0.2222222222222222,
             "#7201a8"
            ],
            [
             0.3333333333333333,
             "#9c179e"
            ],
            [
             0.4444444444444444,
             "#bd3786"
            ],
            [
             0.5555555555555556,
             "#d8576b"
            ],
            [
             0.6666666666666666,
             "#ed7953"
            ],
            [
             0.7777777777777778,
             "#fb9f3a"
            ],
            [
             0.8888888888888888,
             "#fdca26"
            ],
            [
             1,
             "#f0f921"
            ]
           ]
          },
          "colorway": [
           "#636efa",
           "#EF553B",
           "#00cc96",
           "#ab63fa",
           "#FFA15A",
           "#19d3f3",
           "#FF6692",
           "#B6E880",
           "#FF97FF",
           "#FECB52"
          ],
          "font": {
           "color": "#2a3f5f"
          },
          "geo": {
           "bgcolor": "white",
           "lakecolor": "white",
           "landcolor": "#E5ECF6",
           "showlakes": true,
           "showland": true,
           "subunitcolor": "white"
          },
          "hoverlabel": {
           "align": "left"
          },
          "hovermode": "closest",
          "mapbox": {
           "style": "light"
          },
          "paper_bgcolor": "white",
          "plot_bgcolor": "#E5ECF6",
          "polar": {
           "angularaxis": {
            "gridcolor": "white",
            "linecolor": "white",
            "ticks": ""
           },
           "bgcolor": "#E5ECF6",
           "radialaxis": {
            "gridcolor": "white",
            "linecolor": "white",
            "ticks": ""
           }
          },
          "scene": {
           "xaxis": {
            "backgroundcolor": "#E5ECF6",
            "gridcolor": "white",
            "gridwidth": 2,
            "linecolor": "white",
            "showbackground": true,
            "ticks": "",
            "zerolinecolor": "white"
           },
           "yaxis": {
            "backgroundcolor": "#E5ECF6",
            "gridcolor": "white",
            "gridwidth": 2,
            "linecolor": "white",
            "showbackground": true,
            "ticks": "",
            "zerolinecolor": "white"
           },
           "zaxis": {
            "backgroundcolor": "#E5ECF6",
            "gridcolor": "white",
            "gridwidth": 2,
            "linecolor": "white",
            "showbackground": true,
            "ticks": "",
            "zerolinecolor": "white"
           }
          },
          "shapedefaults": {
           "line": {
            "color": "#2a3f5f"
           }
          },
          "ternary": {
           "aaxis": {
            "gridcolor": "white",
            "linecolor": "white",
            "ticks": ""
           },
           "baxis": {
            "gridcolor": "white",
            "linecolor": "white",
            "ticks": ""
           },
           "bgcolor": "#E5ECF6",
           "caxis": {
            "gridcolor": "white",
            "linecolor": "white",
            "ticks": ""
           }
          },
          "title": {
           "x": 0.05
          },
          "xaxis": {
           "automargin": true,
           "gridcolor": "white",
           "linecolor": "white",
           "ticks": "",
           "title": {
            "standoff": 15
           },
           "zerolinecolor": "white",
           "zerolinewidth": 2
          },
          "yaxis": {
           "automargin": true,
           "gridcolor": "white",
           "linecolor": "white",
           "ticks": "",
           "title": {
            "standoff": 15
           },
           "zerolinecolor": "white",
           "zerolinewidth": 2
          }
         }
        }
       }
      }
     },
     "metadata": {},
     "output_type": "display_data"
    }
   ],
   "source": [
    "#data\n",
    "label = ['income', 'other income', 'total income', 'rent', 'food']\n",
    "source = [0, 1, 2, 2]\n",
    "target = [2, 2, 3, 4]\n",
    "value = [10, 2, 6, 4]\n",
    "\n",
    "#data to dict, dict to sankey\n",
    "link = dict(source = source, target = target, value = value)\n",
    "node = dict(label = label, pad = 80, thickness = 15)\n",
    "data = go.Sankey(link = link, node = node)\n",
    "\n",
    "#plot\n",
    "fig = go.Figure(data)\n",
    "fig.show()"
   ]
  },
  {
   "cell_type": "code",
   "execution_count": 5,
   "metadata": {},
   "outputs": [],
   "source": [
    "incomes = {'Salary': 1000, 'Other income':200}\n",
    "expenses = {'Rent': 500, 'Utils': 100, 'Other expenses': 300}"
   ]
  },
  {
   "cell_type": "code",
   "execution_count": 6,
   "metadata": {},
   "outputs": [
    {
     "data": {
      "text/plain": [
       "['Salary', 'Other income', 'Total income', 'Rent', 'Utils', 'Other expenses']"
      ]
     },
     "execution_count": 6,
     "metadata": {},
     "output_type": "execute_result"
    }
   ],
   "source": [
    "label = list(incomes.keys()) + ['Total income'] + list(expenses.keys())\n",
    "label"
   ]
  },
  {
   "cell_type": "code",
   "execution_count": 7,
   "metadata": {},
   "outputs": [
    {
     "data": {
      "text/plain": [
       "[1000, 200, 500, 100, 300]"
      ]
     },
     "execution_count": 7,
     "metadata": {},
     "output_type": "execute_result"
    }
   ],
   "source": [
    "value = list(incomes.values()) + list(expenses.values())\n",
    "value"
   ]
  },
  {
   "cell_type": "code",
   "execution_count": 8,
   "metadata": {},
   "outputs": [
    {
     "data": {
      "text/plain": [
       "[0, 1, 2, 2, 2]"
      ]
     },
     "execution_count": 8,
     "metadata": {},
     "output_type": "execute_result"
    }
   ],
   "source": [
    "source = list(range(len(incomes))) + [len(incomes)] * len(expenses)\n",
    "source"
   ]
  },
  {
   "cell_type": "code",
   "execution_count": 9,
   "metadata": {},
   "outputs": [
    {
     "data": {
      "text/plain": [
       "[2, 2, 3, 4, 5]"
      ]
     },
     "execution_count": 9,
     "metadata": {},
     "output_type": "execute_result"
    }
   ],
   "source": [
    "target = [len(incomes)] * len(incomes) + [label.index(expense) for expense in expenses.keys()]\n",
    "target"
   ]
  },
  {
   "cell_type": "code",
   "execution_count": 14,
   "metadata": {},
   "outputs": [
    {
     "data": {
      "application/vnd.plotly.v1+json": {
       "config": {
        "plotlyServerURL": "https://plot.ly"
       },
       "data": [
        {
         "link": {
          "color": [
           "#98cc9b",
           "#98cc9b",
           "#e18685",
           "#e18685",
           "#e18685"
          ],
          "source": [
           0,
           1,
           2,
           2,
           2
          ],
          "target": [
           2,
           2,
           3,
           4,
           5
          ],
          "value": [
           1000,
           200,
           500,
           100,
           300
          ]
         },
         "node": {
          "color": [
           "#2ba02b",
           "#2ba02b",
           "#2ba02b",
           "#cc0202",
           "#cc0202",
           "#cc0202"
          ],
          "label": [
           "Salary",
           "Other income",
           "Total income",
           "Rent",
           "Utils",
           "Other expenses"
          ],
          "pad": 90,
          "thickness": 13
         },
         "type": "sankey"
        }
       ],
       "layout": {
        "margin": {
         "b": 15,
         "l": 15,
         "r": 15,
         "t": 15
        },
        "template": {
         "data": {
          "bar": [
           {
            "error_x": {
             "color": "#2a3f5f"
            },
            "error_y": {
             "color": "#2a3f5f"
            },
            "marker": {
             "line": {
              "color": "#E5ECF6",
              "width": 0.5
             },
             "pattern": {
              "fillmode": "overlay",
              "size": 10,
              "solidity": 0.2
             }
            },
            "type": "bar"
           }
          ],
          "barpolar": [
           {
            "marker": {
             "line": {
              "color": "#E5ECF6",
              "width": 0.5
             },
             "pattern": {
              "fillmode": "overlay",
              "size": 10,
              "solidity": 0.2
             }
            },
            "type": "barpolar"
           }
          ],
          "carpet": [
           {
            "aaxis": {
             "endlinecolor": "#2a3f5f",
             "gridcolor": "white",
             "linecolor": "white",
             "minorgridcolor": "white",
             "startlinecolor": "#2a3f5f"
            },
            "baxis": {
             "endlinecolor": "#2a3f5f",
             "gridcolor": "white",
             "linecolor": "white",
             "minorgridcolor": "white",
             "startlinecolor": "#2a3f5f"
            },
            "type": "carpet"
           }
          ],
          "choropleth": [
           {
            "colorbar": {
             "outlinewidth": 0,
             "ticks": ""
            },
            "type": "choropleth"
           }
          ],
          "contour": [
           {
            "colorbar": {
             "outlinewidth": 0,
             "ticks": ""
            },
            "colorscale": [
             [
              0,
              "#0d0887"
             ],
             [
              0.1111111111111111,
              "#46039f"
             ],
             [
              0.2222222222222222,
              "#7201a8"
             ],
             [
              0.3333333333333333,
              "#9c179e"
             ],
             [
              0.4444444444444444,
              "#bd3786"
             ],
             [
              0.5555555555555556,
              "#d8576b"
             ],
             [
              0.6666666666666666,
              "#ed7953"
             ],
             [
              0.7777777777777778,
              "#fb9f3a"
             ],
             [
              0.8888888888888888,
              "#fdca26"
             ],
             [
              1,
              "#f0f921"
             ]
            ],
            "type": "contour"
           }
          ],
          "contourcarpet": [
           {
            "colorbar": {
             "outlinewidth": 0,
             "ticks": ""
            },
            "type": "contourcarpet"
           }
          ],
          "heatmap": [
           {
            "colorbar": {
             "outlinewidth": 0,
             "ticks": ""
            },
            "colorscale": [
             [
              0,
              "#0d0887"
             ],
             [
              0.1111111111111111,
              "#46039f"
             ],
             [
              0.2222222222222222,
              "#7201a8"
             ],
             [
              0.3333333333333333,
              "#9c179e"
             ],
             [
              0.4444444444444444,
              "#bd3786"
             ],
             [
              0.5555555555555556,
              "#d8576b"
             ],
             [
              0.6666666666666666,
              "#ed7953"
             ],
             [
              0.7777777777777778,
              "#fb9f3a"
             ],
             [
              0.8888888888888888,
              "#fdca26"
             ],
             [
              1,
              "#f0f921"
             ]
            ],
            "type": "heatmap"
           }
          ],
          "heatmapgl": [
           {
            "colorbar": {
             "outlinewidth": 0,
             "ticks": ""
            },
            "colorscale": [
             [
              0,
              "#0d0887"
             ],
             [
              0.1111111111111111,
              "#46039f"
             ],
             [
              0.2222222222222222,
              "#7201a8"
             ],
             [
              0.3333333333333333,
              "#9c179e"
             ],
             [
              0.4444444444444444,
              "#bd3786"
             ],
             [
              0.5555555555555556,
              "#d8576b"
             ],
             [
              0.6666666666666666,
              "#ed7953"
             ],
             [
              0.7777777777777778,
              "#fb9f3a"
             ],
             [
              0.8888888888888888,
              "#fdca26"
             ],
             [
              1,
              "#f0f921"
             ]
            ],
            "type": "heatmapgl"
           }
          ],
          "histogram": [
           {
            "marker": {
             "pattern": {
              "fillmode": "overlay",
              "size": 10,
              "solidity": 0.2
             }
            },
            "type": "histogram"
           }
          ],
          "histogram2d": [
           {
            "colorbar": {
             "outlinewidth": 0,
             "ticks": ""
            },
            "colorscale": [
             [
              0,
              "#0d0887"
             ],
             [
              0.1111111111111111,
              "#46039f"
             ],
             [
              0.2222222222222222,
              "#7201a8"
             ],
             [
              0.3333333333333333,
              "#9c179e"
             ],
             [
              0.4444444444444444,
              "#bd3786"
             ],
             [
              0.5555555555555556,
              "#d8576b"
             ],
             [
              0.6666666666666666,
              "#ed7953"
             ],
             [
              0.7777777777777778,
              "#fb9f3a"
             ],
             [
              0.8888888888888888,
              "#fdca26"
             ],
             [
              1,
              "#f0f921"
             ]
            ],
            "type": "histogram2d"
           }
          ],
          "histogram2dcontour": [
           {
            "colorbar": {
             "outlinewidth": 0,
             "ticks": ""
            },
            "colorscale": [
             [
              0,
              "#0d0887"
             ],
             [
              0.1111111111111111,
              "#46039f"
             ],
             [
              0.2222222222222222,
              "#7201a8"
             ],
             [
              0.3333333333333333,
              "#9c179e"
             ],
             [
              0.4444444444444444,
              "#bd3786"
             ],
             [
              0.5555555555555556,
              "#d8576b"
             ],
             [
              0.6666666666666666,
              "#ed7953"
             ],
             [
              0.7777777777777778,
              "#fb9f3a"
             ],
             [
              0.8888888888888888,
              "#fdca26"
             ],
             [
              1,
              "#f0f921"
             ]
            ],
            "type": "histogram2dcontour"
           }
          ],
          "mesh3d": [
           {
            "colorbar": {
             "outlinewidth": 0,
             "ticks": ""
            },
            "type": "mesh3d"
           }
          ],
          "parcoords": [
           {
            "line": {
             "colorbar": {
              "outlinewidth": 0,
              "ticks": ""
             }
            },
            "type": "parcoords"
           }
          ],
          "pie": [
           {
            "automargin": true,
            "type": "pie"
           }
          ],
          "scatter": [
           {
            "fillpattern": {
             "fillmode": "overlay",
             "size": 10,
             "solidity": 0.2
            },
            "type": "scatter"
           }
          ],
          "scatter3d": [
           {
            "line": {
             "colorbar": {
              "outlinewidth": 0,
              "ticks": ""
             }
            },
            "marker": {
             "colorbar": {
              "outlinewidth": 0,
              "ticks": ""
             }
            },
            "type": "scatter3d"
           }
          ],
          "scattercarpet": [
           {
            "marker": {
             "colorbar": {
              "outlinewidth": 0,
              "ticks": ""
             }
            },
            "type": "scattercarpet"
           }
          ],
          "scattergeo": [
           {
            "marker": {
             "colorbar": {
              "outlinewidth": 0,
              "ticks": ""
             }
            },
            "type": "scattergeo"
           }
          ],
          "scattergl": [
           {
            "marker": {
             "colorbar": {
              "outlinewidth": 0,
              "ticks": ""
             }
            },
            "type": "scattergl"
           }
          ],
          "scattermapbox": [
           {
            "marker": {
             "colorbar": {
              "outlinewidth": 0,
              "ticks": ""
             }
            },
            "type": "scattermapbox"
           }
          ],
          "scatterpolar": [
           {
            "marker": {
             "colorbar": {
              "outlinewidth": 0,
              "ticks": ""
             }
            },
            "type": "scatterpolar"
           }
          ],
          "scatterpolargl": [
           {
            "marker": {
             "colorbar": {
              "outlinewidth": 0,
              "ticks": ""
             }
            },
            "type": "scatterpolargl"
           }
          ],
          "scatterternary": [
           {
            "marker": {
             "colorbar": {
              "outlinewidth": 0,
              "ticks": ""
             }
            },
            "type": "scatterternary"
           }
          ],
          "surface": [
           {
            "colorbar": {
             "outlinewidth": 0,
             "ticks": ""
            },
            "colorscale": [
             [
              0,
              "#0d0887"
             ],
             [
              0.1111111111111111,
              "#46039f"
             ],
             [
              0.2222222222222222,
              "#7201a8"
             ],
             [
              0.3333333333333333,
              "#9c179e"
             ],
             [
              0.4444444444444444,
              "#bd3786"
             ],
             [
              0.5555555555555556,
              "#d8576b"
             ],
             [
              0.6666666666666666,
              "#ed7953"
             ],
             [
              0.7777777777777778,
              "#fb9f3a"
             ],
             [
              0.8888888888888888,
              "#fdca26"
             ],
             [
              1,
              "#f0f921"
             ]
            ],
            "type": "surface"
           }
          ],
          "table": [
           {
            "cells": {
             "fill": {
              "color": "#EBF0F8"
             },
             "line": {
              "color": "white"
             }
            },
            "header": {
             "fill": {
              "color": "#C8D4E3"
             },
             "line": {
              "color": "white"
             }
            },
            "type": "table"
           }
          ]
         },
         "layout": {
          "annotationdefaults": {
           "arrowcolor": "#2a3f5f",
           "arrowhead": 0,
           "arrowwidth": 1
          },
          "autotypenumbers": "strict",
          "coloraxis": {
           "colorbar": {
            "outlinewidth": 0,
            "ticks": ""
           }
          },
          "colorscale": {
           "diverging": [
            [
             0,
             "#8e0152"
            ],
            [
             0.1,
             "#c51b7d"
            ],
            [
             0.2,
             "#de77ae"
            ],
            [
             0.3,
             "#f1b6da"
            ],
            [
             0.4,
             "#fde0ef"
            ],
            [
             0.5,
             "#f7f7f7"
            ],
            [
             0.6,
             "#e6f5d0"
            ],
            [
             0.7,
             "#b8e186"
            ],
            [
             0.8,
             "#7fbc41"
            ],
            [
             0.9,
             "#4d9221"
            ],
            [
             1,
             "#276419"
            ]
           ],
           "sequential": [
            [
             0,
             "#0d0887"
            ],
            [
             0.1111111111111111,
             "#46039f"
            ],
            [
             0.2222222222222222,
             "#7201a8"
            ],
            [
             0.3333333333333333,
             "#9c179e"
            ],
            [
             0.4444444444444444,
             "#bd3786"
            ],
            [
             0.5555555555555556,
             "#d8576b"
            ],
            [
             0.6666666666666666,
             "#ed7953"
            ],
            [
             0.7777777777777778,
             "#fb9f3a"
            ],
            [
             0.8888888888888888,
             "#fdca26"
            ],
            [
             1,
             "#f0f921"
            ]
           ],
           "sequentialminus": [
            [
             0,
             "#0d0887"
            ],
            [
             0.1111111111111111,
             "#46039f"
            ],
            [
             0.2222222222222222,
             "#7201a8"
            ],
            [
             0.3333333333333333,
             "#9c179e"
            ],
            [
             0.4444444444444444,
             "#bd3786"
            ],
            [
             0.5555555555555556,
             "#d8576b"
            ],
            [
             0.6666666666666666,
             "#ed7953"
            ],
            [
             0.7777777777777778,
             "#fb9f3a"
            ],
            [
             0.8888888888888888,
             "#fdca26"
            ],
            [
             1,
             "#f0f921"
            ]
           ]
          },
          "colorway": [
           "#636efa",
           "#EF553B",
           "#00cc96",
           "#ab63fa",
           "#FFA15A",
           "#19d3f3",
           "#FF6692",
           "#B6E880",
           "#FF97FF",
           "#FECB52"
          ],
          "font": {
           "color": "#2a3f5f"
          },
          "geo": {
           "bgcolor": "white",
           "lakecolor": "white",
           "landcolor": "#E5ECF6",
           "showlakes": true,
           "showland": true,
           "subunitcolor": "white"
          },
          "hoverlabel": {
           "align": "left"
          },
          "hovermode": "closest",
          "mapbox": {
           "style": "light"
          },
          "paper_bgcolor": "white",
          "plot_bgcolor": "#E5ECF6",
          "polar": {
           "angularaxis": {
            "gridcolor": "white",
            "linecolor": "white",
            "ticks": ""
           },
           "bgcolor": "#E5ECF6",
           "radialaxis": {
            "gridcolor": "white",
            "linecolor": "white",
            "ticks": ""
           }
          },
          "scene": {
           "xaxis": {
            "backgroundcolor": "#E5ECF6",
            "gridcolor": "white",
            "gridwidth": 2,
            "linecolor": "white",
            "showbackground": true,
            "ticks": "",
            "zerolinecolor": "white"
           },
           "yaxis": {
            "backgroundcolor": "#E5ECF6",
            "gridcolor": "white",
            "gridwidth": 2,
            "linecolor": "white",
            "showbackground": true,
            "ticks": "",
            "zerolinecolor": "white"
           },
           "zaxis": {
            "backgroundcolor": "#E5ECF6",
            "gridcolor": "white",
            "gridwidth": 2,
            "linecolor": "white",
            "showbackground": true,
            "ticks": "",
            "zerolinecolor": "white"
           }
          },
          "shapedefaults": {
           "line": {
            "color": "#2a3f5f"
           }
          },
          "ternary": {
           "aaxis": {
            "gridcolor": "white",
            "linecolor": "white",
            "ticks": ""
           },
           "baxis": {
            "gridcolor": "white",
            "linecolor": "white",
            "ticks": ""
           },
           "bgcolor": "#E5ECF6",
           "caxis": {
            "gridcolor": "white",
            "linecolor": "white",
            "ticks": ""
           }
          },
          "title": {
           "x": 0.05
          },
          "xaxis": {
           "automargin": true,
           "gridcolor": "white",
           "linecolor": "white",
           "ticks": "",
           "title": {
            "standoff": 15
           },
           "zerolinecolor": "white",
           "zerolinewidth": 2
          },
          "yaxis": {
           "automargin": true,
           "gridcolor": "white",
           "linecolor": "white",
           "ticks": "",
           "title": {
            "standoff": 15
           },
           "zerolinecolor": "white",
           "zerolinewidth": 2
          }
         }
        }
       }
      }
     },
     "metadata": {},
     "output_type": "display_data"
    }
   ],
   "source": [
    "#updated params\n",
    "link = dict(source = source, target = target, value = value, color = ['#98cc9b','#98cc9b','#e18685','#e18685','#e18685'])\n",
    "node = dict(label = label, pad = 90, thickness = 13, color = ['#2ba02b','#2ba02b','#2ba02b','#cc0202','#cc0202','#cc0202'])\n",
    "data = go.Sankey(link = link, node = node)\n",
    "\n",
    "#plot\n",
    "fig = go.Figure(data)\n",
    "fig.update_layout(margin=dict(l=15, r=15, t=15, b=15))\n",
    "fig.show()"
   ]
  },
  {
   "attachments": {},
   "cell_type": "markdown",
   "metadata": {},
   "source": [
    "#### Customization Example\n",
    "https://plotly.com/python/sankey-diagram/"
   ]
  },
  {
   "cell_type": "code",
   "execution_count": 23,
   "metadata": {},
   "outputs": [],
   "source": [
    "test_data = {\n",
    "    \"nodes\":[\n",
    "        {\"name\":\"Agricultural 'waste'\"},{\"name\":\"Bio-conversion\"},{\"name\":\"Liquid\"},{\"name\":\"Losses\"},{\"name\":\"Solid\"},{\"name\":\"Gas\"},{\"name\":\"Biofuel imports\"},{\"name\":\"Biomass imports\"},{\"name\":\"Coal imports\"},{\"name\":\"Coal\"},{\"name\":\"Coal reserves\"},{\"name\":\"District heating\"},{\"name\":\"Industry\"},{\"name\":\"Heating and cooling - commercial\"},{\"name\":\"Heating and cooling - homes\"},{\"name\":\"Electricity grid\"},{\"name\":\"Over generation / exports\"},{\"name\":\"H2 conversion\"},{\"name\":\"Road transport\"},{\"name\":\"Agriculture\"},{\"name\":\"Rail transport\"},{\"name\":\"Lighting & appliances - commercial\"},{\"name\":\"Lighting & appliances - homes\"},{\"name\":\"Gas imports\"},{\"name\":\"Ngas\"},{\"name\":\"Gas reserves\"},{\"name\":\"Thermal generation\"},{\"name\":\"Geothermal\"},{\"name\":\"H2\"},{\"name\":\"Hydro\"},{\"name\":\"International shipping\"},{\"name\":\"Domestic aviation\"},{\"name\":\"International aviation\"},{\"name\":\"National navigation\"},{\"name\":\"Marine algae\"},{\"name\":\"Nuclear\"},{\"name\":\"Oil imports\"},{\"name\":\"Oil\"},{\"name\":\"Oil reserves\"},{\"name\":\"Other waste\"},{\"name\":\"Pumped heat\"},{\"name\":\"Solar PV\"},{\"name\":\"Solar Thermal\"},{\"name\":\"Solar\"},{\"name\":\"Tidal\"},{\"name\":\"UK land based bioenergy\"},{\"name\":\"Wave\"},{\"name\":\"Wind\"}\n",
    "        ],\n",
    "        \"links\":[\n",
    "            {\"source\":0,\"target\":1,\"value\":124.729},{\"source\":1,\"target\":2,\"value\":0.597},{\"source\":1,\"target\":3,\"value\":26.862},{\"source\":1,\"target\":4,\"value\":280.322},{\"source\":1,\"target\":5,\"value\":81.144},{\"source\":6,\"target\":2,\"value\":35},{\"source\":7,\"target\":4,\"value\":35},{\"source\":8,\"target\":9,\"value\":11.606},{\"source\":10,\"target\":9,\"value\":63.965},{\"source\":9,\"target\":4,\"value\":75.571},{\"source\":11,\"target\":12,\"value\":10.639},{\"source\":11,\"target\":13,\"value\":22.505},{\"source\":11,\"target\":14,\"value\":46.184},{\"source\":15,\"target\":16,\"value\":104.453},{\"source\":15,\"target\":14,\"value\":113.726},{\"source\":15,\"target\":17,\"value\":27.14},{\"source\":15,\"target\":12,\"value\":342.165},{\"source\":15,\"target\":18,\"value\":37.797},{\"source\":15,\"target\":19,\"value\":4.412},{\"source\":15,\"target\":13,\"value\":40.858},{\"source\":15,\"target\":3,\"value\":56.691},{\"source\":15,\"target\":20,\"value\":7.863},{\"source\":15,\"target\":21,\"value\":90.008},{\"source\":15,\"target\":22,\"value\":93.494},{\"source\":23,\"target\":24,\"value\":40.719},{\"source\":25,\"target\":24,\"value\":82.233},{\"source\":5,\"target\":13,\"value\":0.129},{\"source\":5,\"target\":3,\"value\":1.401},{\"source\":5,\"target\":26,\"value\":151.891},{\"source\":5,\"target\":19,\"value\":2.096},{\"source\":5,\"target\":12,\"value\":48.58},{\"source\":27,\"target\":15,\"value\":7.013},{\"source\":17,\"target\":28,\"value\":20.897},{\"source\":17,\"target\":3,\"value\":6.242},{\"source\":28,\"target\":18,\"value\":20.897},{\"source\":29,\"target\":15,\"value\":6.995},{\"source\":2,\"target\":12,\"value\":121.066},{\"source\":2,\"target\":30,\"value\":128.69},{\"source\":2,\"target\":18,\"value\":135.835},{\"source\":2,\"target\":31,\"value\":14.458},{\"source\":2,\"target\":32,\"value\":206.267},{\"source\":2,\"target\":19,\"value\":3.64},{\"source\":2,\"target\":33,\"value\":33.218},{\"source\":2,\"target\":20,\"value\":4.413},{\"source\":34,\"target\":1,\"value\":4.375},{\"source\":24,\"target\":5,\"value\":122.952},{\"source\":35,\"target\":26,\"value\":839.978},{\"source\":36,\"target\":37,\"value\":504.287},{\"source\":38,\"target\":37,\"value\":107.703},{\"source\":37,\"target\":2,\"value\":611.99},{\"source\":39,\"target\":4,\"value\":56.587},{\"source\":39,\"target\":1,\"value\":77.81},{\"source\":40,\"target\":14,\"value\":193.026},{\"source\":40,\"target\":13,\"value\":70.672},{\"source\":41,\"target\":15,\"value\":59.901},{\"source\":42,\"target\":14,\"value\":19.263},{\"source\":43,\"target\":42,\"value\":19.263},{\"source\":43,\"target\":41,\"value\":59.901},{\"source\":4,\"target\":19,\"value\":0.882},{\"source\":4,\"target\":26,\"value\":400.12},{\"source\":4,\"target\":12,\"value\":46.477},{\"source\":26,\"target\":15,\"value\":525.531},{\"source\":26,\"target\":3,\"value\":787.129},{\"source\":26,\"target\":11,\"value\":79.329},{\"source\":44,\"target\":15,\"value\":9.452},{\"source\":45,\"target\":1,\"value\":182.01},{\"source\":46,\"target\":15,\"value\":19.013},{\"source\":47,\"target\":15,\"value\":289.366}\n",
    "            ]\n",
    "        }"
   ]
  },
  {
   "cell_type": "code",
   "execution_count": 24,
   "metadata": {},
   "outputs": [],
   "source": [
    "data = {\n",
    "    \"data\": [\n",
    "        {\n",
    "            \"type\": \"sankey\",\n",
    "            \"domain\": {\n",
    "                \"x\": [\n",
    "                    0,\n",
    "                    1\n",
    "                ],\n",
    "                \"y\": [\n",
    "                    0,\n",
    "                    1\n",
    "                ]\n",
    "            },\n",
    "            \"orientation\": \"h\",\n",
    "            \"valueformat\": \".0f\",\n",
    "            \"valuesuffix\": \"TWh\",\n",
    "            \"node\": {\n",
    "                \"pad\": 15,\n",
    "                \"thickness\": 15,\n",
    "                \"line\": {\n",
    "                    \"color\": \"black\",\n",
    "                    \"width\": 0.5\n",
    "                },\n",
    "                \"label\": [\n",
    "                    \"Agricultural 'waste'\",\n",
    "                    \"Bio-conversion\",\n",
    "                    \"Liquid\",\n",
    "                    \"Losses\",\n",
    "                    \"Solid\",\n",
    "                    \"Gas\",\n",
    "                    \"Biofuel imports\",\n",
    "                    \"Biomass imports\",\n",
    "                    \"Coal imports\",\n",
    "                    \"Coal\",\n",
    "                    \"Coal reserves\",\n",
    "                    \"District heating\",\n",
    "                    \"Industry\",\n",
    "                    \"Heating and cooling - commercial\",\n",
    "                    \"Heating and cooling - homes\",\n",
    "                    \"Electricity grid\",\n",
    "                    \"Over generation / exports\",\n",
    "                    \"H2 conversion\",\n",
    "                    \"Road transport\",\n",
    "                    \"Agriculture\",\n",
    "                    \"Rail transport\",\n",
    "                    \"Lighting & appliances - commercial\",\n",
    "                    \"Lighting & appliances - homes\",\n",
    "                    \"Gas imports\",\n",
    "                    \"Ngas\",\n",
    "                    \"Gas reserves\",\n",
    "                    \"Thermal generation\",\n",
    "                    \"Geothermal\",\n",
    "                    \"H2\",\n",
    "                    \"Hydro\",\n",
    "                    \"International shipping\",\n",
    "                    \"Domestic aviation\",\n",
    "                    \"International aviation\",\n",
    "                    \"National navigation\",\n",
    "                    \"Marine algae\",\n",
    "                    \"Nuclear\",\n",
    "                    \"Oil imports\",\n",
    "                    \"Oil\",\n",
    "                    \"Oil reserves\",\n",
    "                    \"Other waste\",\n",
    "                    \"Pumped heat\",\n",
    "                    \"Solar PV\",\n",
    "                    \"Solar Thermal\",\n",
    "                    \"Solar\",\n",
    "                    \"Tidal\",\n",
    "                    \"UK land based bioenergy\",\n",
    "                    \"Wave\",\n",
    "                    \"Wind\"\n",
    "                ],\n",
    "                \"color\": [\n",
    "                    \"rgba(31, 119, 180, 0.8)\",\n",
    "                    \"rgba(255, 127, 14, 0.8)\",\n",
    "                    \"rgba(44, 160, 44, 0.8)\",\n",
    "                    \"rgba(214, 39, 40, 0.8)\",\n",
    "                    \"rgba(148, 103, 189, 0.8)\",\n",
    "                    \"rgba(140, 86, 75, 0.8)\",\n",
    "                    \"rgba(227, 119, 194, 0.8)\",\n",
    "                    \"rgba(127, 127, 127, 0.8)\",\n",
    "                    \"rgba(188, 189, 34, 0.8)\",\n",
    "                    \"rgba(23, 190, 207, 0.8)\",\n",
    "                    \"rgba(31, 119, 180, 0.8)\",\n",
    "                    \"rgba(255, 127, 14, 0.8)\",\n",
    "                    \"rgba(44, 160, 44, 0.8)\",\n",
    "                    \"rgba(214, 39, 40, 0.8)\",\n",
    "                    \"rgba(148, 103, 189, 0.8)\",\n",
    "                    \"rgba(140, 86, 75, 0.8)\",\n",
    "                    \"rgba(227, 119, 194, 0.8)\",\n",
    "                    \"rgba(127, 127, 127, 0.8)\",\n",
    "                    \"rgba(188, 189, 34, 0.8)\",\n",
    "                    \"rgba(23, 190, 207, 0.8)\",\n",
    "                    \"rgba(31, 119, 180, 0.8)\",\n",
    "                    \"rgba(255, 127, 14, 0.8)\",\n",
    "                    \"rgba(44, 160, 44, 0.8)\",\n",
    "                    \"rgba(214, 39, 40, 0.8)\",\n",
    "                    \"rgba(148, 103, 189, 0.8)\",\n",
    "                    \"rgba(140, 86, 75, 0.8)\",\n",
    "                    \"rgba(227, 119, 194, 0.8)\",\n",
    "                    \"rgba(127, 127, 127, 0.8)\",\n",
    "                    \"rgba(188, 189, 34, 0.8)\",\n",
    "                    \"rgba(23, 190, 207, 0.8)\",\n",
    "                    \"rgba(31, 119, 180, 0.8)\",\n",
    "                    \"rgba(255, 127, 14, 0.8)\",\n",
    "                    \"rgba(44, 160, 44, 0.8)\",\n",
    "                    \"rgba(214, 39, 40, 0.8)\",\n",
    "                    \"rgba(148, 103, 189, 0.8)\",\n",
    "                    \"magenta\",\n",
    "                    \"rgba(227, 119, 194, 0.8)\",\n",
    "                    \"rgba(127, 127, 127, 0.8)\",\n",
    "                    \"rgba(188, 189, 34, 0.8)\",\n",
    "                    \"rgba(23, 190, 207, 0.8)\",\n",
    "                    \"rgba(31, 119, 180, 0.8)\",\n",
    "                    \"rgba(255, 127, 14, 0.8)\",\n",
    "                    \"rgba(44, 160, 44, 0.8)\",\n",
    "                    \"rgba(214, 39, 40, 0.8)\",\n",
    "                    \"rgba(148, 103, 189, 0.8)\",\n",
    "                    \"rgba(140, 86, 75, 0.8)\",\n",
    "                    \"rgba(227, 119, 194, 0.8)\",\n",
    "                    \"rgba(127, 127, 127, 0.8)\"]\n",
    "            },\n",
    "            \"link\": {\n",
    "                \"source\": [\n",
    "                    0,\n",
    "                    1,\n",
    "                    1,\n",
    "                    1,\n",
    "                    1,\n",
    "                    6,\n",
    "                    7,\n",
    "                    8,\n",
    "                    10,\n",
    "                    9,\n",
    "                    11,\n",
    "                    11,\n",
    "                    11,\n",
    "                    15,\n",
    "                    15,\n",
    "                    15,\n",
    "                    15,\n",
    "                    15,\n",
    "                    15,\n",
    "                    15,\n",
    "                    15,\n",
    "                    15,\n",
    "                    15,\n",
    "                    15,\n",
    "                    23,\n",
    "                    25,\n",
    "                    5,\n",
    "                    5,\n",
    "                    5,\n",
    "                    5,\n",
    "                    5,\n",
    "                    27,\n",
    "                    17,\n",
    "                    17,\n",
    "                    28,\n",
    "                    29,\n",
    "                    2,\n",
    "                    2,\n",
    "                    2,\n",
    "                    2,\n",
    "                    2,\n",
    "                    2,\n",
    "                    2,\n",
    "                    2,\n",
    "                    34,\n",
    "                    24,\n",
    "                    35,\n",
    "                    35,\n",
    "                    36,\n",
    "                    38,\n",
    "                    37,\n",
    "                    39,\n",
    "                    39,\n",
    "                    40,\n",
    "                    40,\n",
    "                    41,\n",
    "                    42,\n",
    "                    43,\n",
    "                    43,\n",
    "                    4,\n",
    "                    4,\n",
    "                    4,\n",
    "                    26,\n",
    "                    26,\n",
    "                    26,\n",
    "                    44,\n",
    "                    45,\n",
    "                    46,\n",
    "                    47,\n",
    "                    35,\n",
    "                    35\n",
    "                ],\n",
    "                \"target\": [\n",
    "                    1,\n",
    "                    2,\n",
    "                    3,\n",
    "                    4,\n",
    "                    5,\n",
    "                    2,\n",
    "                    4,\n",
    "                    9,\n",
    "                    9,\n",
    "                    4,\n",
    "                    12,\n",
    "                    13,\n",
    "                    14,\n",
    "                    16,\n",
    "                    14,\n",
    "                    17,\n",
    "                    12,\n",
    "                    18,\n",
    "                    19,\n",
    "                    13,\n",
    "                    3,\n",
    "                    20,\n",
    "                    21,\n",
    "                    22,\n",
    "                    24,\n",
    "                    24,\n",
    "                    13,\n",
    "                    3,\n",
    "                    26,\n",
    "                    19,\n",
    "                    12,\n",
    "                    15,\n",
    "                    28,\n",
    "                    3,\n",
    "                    18,\n",
    "                    15,\n",
    "                    12,\n",
    "                    30,\n",
    "                    18,\n",
    "                    31,\n",
    "                    32,\n",
    "                    19,\n",
    "                    33,\n",
    "                    20,\n",
    "                    1,\n",
    "                    5,\n",
    "                    26,\n",
    "                    26,\n",
    "                    37,\n",
    "                    37,\n",
    "                    2,\n",
    "                    4,\n",
    "                    1,\n",
    "                    14,\n",
    "                    13,\n",
    "                    15,\n",
    "                    14,\n",
    "                    42,\n",
    "                    41,\n",
    "                    19,\n",
    "                    26,\n",
    "                    12,\n",
    "                    15,\n",
    "                    3,\n",
    "                    11,\n",
    "                    15,\n",
    "                    1,\n",
    "                    15,\n",
    "                    15,\n",
    "                    26,\n",
    "                    26\n",
    "                ],\n",
    "                \"value\": [\n",
    "                    124.729,\n",
    "                    0.597,\n",
    "                    26.862,\n",
    "                    280.322,\n",
    "                    81.144,\n",
    "                    35,\n",
    "                    35,\n",
    "                    11.606,\n",
    "                    63.965,\n",
    "                    75.571,\n",
    "                    10.639,\n",
    "                    22.505,\n",
    "                    46.184,\n",
    "                    104.453,\n",
    "                    113.726,\n",
    "                    27.14,\n",
    "                    342.165,\n",
    "                    37.797,\n",
    "                    4.412,\n",
    "                    40.858,\n",
    "                    56.691,\n",
    "                    7.863,\n",
    "                    90.008,\n",
    "                    93.494,\n",
    "                    40.719,\n",
    "                    82.233,\n",
    "                    0.129,\n",
    "                    1.401,\n",
    "                    151.891,\n",
    "                    2.096,\n",
    "                    48.58,\n",
    "                    7.013,\n",
    "                    20.897,\n",
    "                    6.242,\n",
    "                    20.897,\n",
    "                    6.995,\n",
    "                    121.066,\n",
    "                    128.69,\n",
    "                    135.835,\n",
    "                    14.458,\n",
    "                    206.267,\n",
    "                    3.64,\n",
    "                    33.218,\n",
    "                    4.413,\n",
    "                    14.375,\n",
    "                    122.952,\n",
    "                    500,\n",
    "                    139.978,\n",
    "                    504.287,\n",
    "                    107.703,\n",
    "                    611.99,\n",
    "                    56.587,\n",
    "                    77.81,\n",
    "                    193.026,\n",
    "                    70.672,\n",
    "                    59.901,\n",
    "                    19.263,\n",
    "                    19.263,\n",
    "                    59.901,\n",
    "                    0.882,\n",
    "                    400.12,\n",
    "                    46.477,\n",
    "                    525.531,\n",
    "                    787.129,\n",
    "                    79.329,\n",
    "                    9.452,\n",
    "                    182.01,\n",
    "                    19.013,\n",
    "                    289.366,\n",
    "                    100,\n",
    "                    100\n",
    "                ],\n",
    "                \"color\": [\n",
    "                    \"rgba(0,0,96,0.2)\",\n",
    "                    \"rgba(0,0,96,0.2)\",\n",
    "                    \"rgba(0,0,96,0.2)\",\n",
    "                    \"rgba(0,0,96,0.2)\",\n",
    "                    \"rgba(0,0,96,0.2)\",\n",
    "                    \"rgba(0,0,96,0.2)\",\n",
    "                    \"rgba(0,0,96,0.2)\",\n",
    "                    \"rgba(0,0,96,0.2)\",\n",
    "                    \"rgba(0,0,96,0.2)\",\n",
    "                    \"rgba(0,0,96,0.2)\",\n",
    "                    \"rgba(0,0,96,0.2)\",\n",
    "                    \"rgba(0,0,96,0.2)\",\n",
    "                    \"rgba(0,0,96,0.2)\",\n",
    "                    \"rgba(0,0,96,0.2)\",\n",
    "                    \"rgba(0,0,96,0.2)\",\n",
    "                    \"rgba(0,0,96,0.2)\",\n",
    "                    \"rgba(0,0,96,0.2)\",\n",
    "                    \"rgba(0,0,96,0.2)\",\n",
    "                    \"rgba(0,0,96,0.2)\",\n",
    "                    \"rgba(0,0,96,0.2)\",\n",
    "                    \"rgba(0,0,96,0.2)\",\n",
    "                    \"rgba(0,0,96,0.2)\",\n",
    "                    \"rgba(0,0,96,0.2)\",\n",
    "                    \"rgba(0,0,96,0.2)\",\n",
    "                    \"rgba(0,0,96,0.2)\",\n",
    "                    \"rgba(0,0,96,0.2)\",\n",
    "                    \"rgba(0,0,96,0.2)\",\n",
    "                    \"rgba(0,0,96,0.2)\",\n",
    "                    \"rgba(0,0,96,0.2)\",\n",
    "                    \"rgba(0,0,96,0.2)\",\n",
    "                    \"rgba(0,0,96,0.2)\",\n",
    "                    \"rgba(0,0,96,0.2)\",\n",
    "                    \"rgba(0,0,96,0.2)\",\n",
    "                    \"rgba(0,0,96,0.2)\",\n",
    "                    \"rgba(0,0,96,0.2)\",\n",
    "                    \"rgba(0,0,96,0.2)\",\n",
    "                    \"rgba(0,0,96,0.2)\",\n",
    "                    \"rgba(0,0,96,0.2)\",\n",
    "                    \"rgba(0,0,96,0.2)\",\n",
    "                    \"rgba(0,0,96,0.2)\",\n",
    "                    \"rgba(0,0,96,0.2)\",\n",
    "                    \"rgba(0,0,96,0.2)\",\n",
    "                    \"rgba(0,0,96,0.2)\",\n",
    "                    \"rgba(0,0,96,0.2)\",\n",
    "                    \"rgba(0,0,96,0.2)\",\n",
    "                    \"rgba(0,0,96,0.2)\",\n",
    "                    \"rgba(33,102,172,0.35)\",\n",
    "                    \"rgba(178,24,43,0.35)\",\n",
    "                    \"rgba(0,0,96,0.2)\",\n",
    "                    \"rgba(0,0,96,0.2)\",\n",
    "                    \"rgba(0,0,96,0.2)\",\n",
    "                    \"rgba(0,0,96,0.2)\",\n",
    "                    \"rgba(0,0,96,0.2)\",\n",
    "                    \"rgba(0,0,96,0.2)\",\n",
    "                    \"rgba(0,0,96,0.2)\",\n",
    "                    \"rgba(0,0,96,0.2)\",\n",
    "                    \"rgba(0,0,96,0.2)\",\n",
    "                    \"rgba(0,0,96,0.2)\",\n",
    "                    \"rgba(0,0,96,0.2)\",\n",
    "                    \"rgba(0,0,96,0.2)\",\n",
    "                    \"rgba(0,0,96,0.2)\",\n",
    "                    \"rgba(0,0,96,0.2)\",\n",
    "                    \"rgba(0,0,96,0.2)\",\n",
    "                    \"rgba(0,0,96,0.2)\",\n",
    "                    \"rgba(0,0,96,0.2)\",\n",
    "                    \"rgba(0,0,96,0.2)\",\n",
    "                    \"rgba(0,0,96,0.2)\",\n",
    "                    \"rgba(0,0,96,0.2)\",\n",
    "                    \"rgba(0,0,96,0.2)\",\n",
    "                    \"lightgreen\",\n",
    "                    \"goldenrod\"\n",
    "                ],\n",
    "                \"label\": [\n",
    "                    \"stream 1\",\n",
    "                    \"\",\n",
    "                    \"\",\n",
    "                    \"\",\n",
    "                    \"stream 1\",\n",
    "                    \"\",\n",
    "                    \"\",\n",
    "                    \"\",\n",
    "                    \"\",\n",
    "                    \"\",\n",
    "                    \"\",\n",
    "                    \"\",\n",
    "                    \"\",\n",
    "                    \"\",\n",
    "                    \"\",\n",
    "                    \"\",\n",
    "                    \"\",\n",
    "                    \"\",\n",
    "                    \"\",\n",
    "                    \"\",\n",
    "                    \"\",\n",
    "                    \"\",\n",
    "                    \"\",\n",
    "                    \"\",\n",
    "                    \"\",\n",
    "                    \"\",\n",
    "                    \"\",\n",
    "                    \"\",\n",
    "                    \"\",\n",
    "                    \"\",\n",
    "                    \"stream 1\",\n",
    "                    \"\",\n",
    "                    \"\",\n",
    "                    \"\",\n",
    "                    \"\",\n",
    "                    \"\",\n",
    "                    \"\",\n",
    "                    \"\",\n",
    "                    \"\",\n",
    "                    \"\",\n",
    "                    \"\",\n",
    "                    \"\",\n",
    "                    \"\",\n",
    "                    \"\",\n",
    "                    \"\",\n",
    "                    \"\",\n",
    "                    \"Old generation plant (made-up)\",\n",
    "                    \"New generation plant (made-up)\",\n",
    "                    \"\",\n",
    "                    \"\",\n",
    "                    \"\",\n",
    "                    \"\",\n",
    "                    \"\",\n",
    "                    \"\",\n",
    "                    \"\",\n",
    "                    \"\",\n",
    "                    \"\",\n",
    "                    \"\",\n",
    "                    \"\",\n",
    "                    \"\",\n",
    "                    \"\",\n",
    "                    \"\",\n",
    "                    \"\",\n",
    "                    \"\",\n",
    "                    \"\",\n",
    "                    \"\",\n",
    "                    \"\",\n",
    "                    \"\",\n",
    "                    \"\",\n",
    "                    \"\",\n",
    "                    \"\"\n",
    "                ]\n",
    "            }\n",
    "        }],\n",
    "    \"layout\": {\n",
    "        \"title\": {\"text\": \"Energy forecast for 2050, UK — Department of Energy & Climate Change<br>Imperfect copy of <a href='https://bost.ocks.org/mike/sankey/'>Mike Bostock's example</a><br>with numerous <a href='https://plotly.com/javascript/'>Plotly</a> features\"},\n",
    "        \"width\": 1118,\n",
    "        \"height\": 772,\n",
    "        \"font\": {\n",
    "            \"size\": 10\n",
    "        },\n",
    "        \"updatemenus\": [\n",
    "            {\n",
    "                \"y\": 1,\n",
    "                \"buttons\": [\n",
    "                    {\n",
    "                        \"label\": \"Light\",\n",
    "                        \"method\": \"relayout\",\n",
    "                        \"args\": [ \"paper_bgcolor\", \"white\" ]\n",
    "                    },\n",
    "                    {\n",
    "                        \"label\": \"Dark\",\n",
    "                        \"method\": \"relayout\",\n",
    "                        \"args\": [ \"paper_bgcolor\", \"black\"]\n",
    "                    }\n",
    "                ]\n",
    "            },\n",
    "            {\n",
    "                \"y\": 0.9,\n",
    "                \"buttons\": [\n",
    "                    {\n",
    "                        \"label\": \"Thick\",\n",
    "                        \"method\": \"restyle\",\n",
    "                        \"args\": [ \"node.thickness\", 15 ]\n",
    "                    },\n",
    "                    {\n",
    "                        \"label\": \"Thin\",\n",
    "                        \"method\": \"restyle\",\n",
    "                        \"args\": [ \"node.thickness\", 8]\n",
    "                    }\n",
    "                ]\n",
    "            },\n",
    "            {\n",
    "                \"y\": 0.8,\n",
    "                \"buttons\": [\n",
    "                    {\n",
    "                        \"label\": \"Small gap\",\n",
    "                        \"method\": \"restyle\",\n",
    "                        \"args\": [ \"node.pad\", 15 ]\n",
    "                    },\n",
    "                    {\n",
    "                        \"label\": \"Large gap\",\n",
    "                        \"method\": \"restyle\",\n",
    "                        \"args\": [ \"node.pad\", 20]\n",
    "                    }\n",
    "                ]\n",
    "            },\n",
    "            {\n",
    "                \"y\": 0.7,\n",
    "                \"buttons\": [\n",
    "                    {\n",
    "                        \"label\": \"Snap\",\n",
    "                        \"method\": \"restyle\",\n",
    "                        \"args\": [ \"arrangement\", \"snap\" ]\n",
    "                    },\n",
    "                    {\n",
    "                        \"label\": \"Perpendicular\",\n",
    "                        \"method\": \"restyle\",\n",
    "                        \"args\": [ \"arrangement\", \"perpendicular\"]\n",
    "                    },\n",
    "                    {\n",
    "                        \"label\": \"Freeform\",\n",
    "                        \"method\": \"restyle\",\n",
    "                        \"args\": [ \"arrangement\", \"freeform\"]\n",
    "                    },\n",
    "                    {\n",
    "                        \"label\": \"Fixed\",\n",
    "                        \"method\": \"restyle\",\n",
    "                        \"args\": [ \"arrangement\", \"fixed\"]\n",
    "                    }\n",
    "                ]\n",
    "            },\n",
    "            {\n",
    "                \"y\": 0.6,\n",
    "                \"buttons\": [\n",
    "                    {\n",
    "                        \"label\": \"Horizontal\",\n",
    "                        \"method\": \"restyle\",\n",
    "                        \"args\": [ \"orientation\", \"h\" ]\n",
    "                    },\n",
    "                    {\n",
    "                        \"label\": \"Vertical\",\n",
    "                        \"method\": \"restyle\",\n",
    "                        \"args\": [ \"orientation\", \"v\"]\n",
    "                    }\n",
    "                ]\n",
    "            }\n",
    "        ]\n",
    "    }\n",
    "}"
   ]
  },
  {
   "cell_type": "code",
   "execution_count": 25,
   "metadata": {},
   "outputs": [
    {
     "name": "stdout",
     "output_type": "stream",
     "text": [
      "['rgba(31, 119, 180, 0.8)', 'rgba(255, 127, 14, 0.8)', 'rgba(44, 160, 44, 0.8)', 'rgba(214, 39, 40, 0.8)', 'rgba(148, 103, 189, 0.8)', 'rgba(140, 86, 75, 0.8)', 'rgba(227, 119, 194, 0.8)', 'rgba(127, 127, 127, 0.8)', 'rgba(188, 189, 34, 0.8)', 'rgba(23, 190, 207, 0.8)', 'rgba(31, 119, 180, 0.8)', 'rgba(255, 127, 14, 0.8)', 'rgba(44, 160, 44, 0.8)', 'rgba(214, 39, 40, 0.8)', 'rgba(148, 103, 189, 0.8)', 'rgba(140, 86, 75, 0.8)', 'rgba(227, 119, 194, 0.8)', 'rgba(127, 127, 127, 0.8)', 'rgba(188, 189, 34, 0.8)', 'rgba(23, 190, 207, 0.8)', 'rgba(31, 119, 180, 0.8)', 'rgba(255, 127, 14, 0.8)', 'rgba(44, 160, 44, 0.8)', 'rgba(214, 39, 40, 0.8)', 'rgba(148, 103, 189, 0.8)', 'rgba(140, 86, 75, 0.8)', 'rgba(227, 119, 194, 0.8)', 'rgba(127, 127, 127, 0.8)', 'rgba(188, 189, 34, 0.8)', 'rgba(23, 190, 207, 0.8)', 'rgba(31, 119, 180, 0.8)', 'rgba(255, 127, 14, 0.8)', 'rgba(44, 160, 44, 0.8)', 'rgba(214, 39, 40, 0.8)', 'rgba(148, 103, 189, 0.8)', 'rgba(255,0,255, 0.8)', 'rgba(227, 119, 194, 0.8)', 'rgba(127, 127, 127, 0.8)', 'rgba(188, 189, 34, 0.8)', 'rgba(23, 190, 207, 0.8)', 'rgba(31, 119, 180, 0.8)', 'rgba(255, 127, 14, 0.8)', 'rgba(44, 160, 44, 0.8)', 'rgba(214, 39, 40, 0.8)', 'rgba(148, 103, 189, 0.8)', 'rgba(140, 86, 75, 0.8)', 'rgba(227, 119, 194, 0.8)', 'rgba(127, 127, 127, 0.8)']\n"
     ]
    },
    {
     "data": {
      "application/vnd.plotly.v1+json": {
       "config": {
        "plotlyServerURL": "https://plot.ly"
       },
       "data": [
        {
         "link": {
          "color": [
           "rgba(31, 119, 180, 0.4)",
           "rgba(255, 127, 14, 0.4)",
           "rgba(255, 127, 14, 0.4)",
           "rgba(255, 127, 14, 0.4)",
           "rgba(255, 127, 14, 0.4)",
           "rgba(227, 119, 194, 0.4)",
           "rgba(127, 127, 127, 0.4)",
           "rgba(188, 189, 34, 0.4)",
           "rgba(31, 119, 180, 0.4)",
           "rgba(23, 190, 207, 0.4)",
           "rgba(255, 127, 14, 0.4)",
           "rgba(255, 127, 14, 0.4)",
           "rgba(255, 127, 14, 0.4)",
           "rgba(140, 86, 75, 0.4)",
           "rgba(140, 86, 75, 0.4)",
           "rgba(140, 86, 75, 0.4)",
           "rgba(140, 86, 75, 0.4)",
           "rgba(140, 86, 75, 0.4)",
           "rgba(140, 86, 75, 0.4)",
           "rgba(140, 86, 75, 0.4)",
           "rgba(140, 86, 75, 0.4)",
           "rgba(140, 86, 75, 0.4)",
           "rgba(140, 86, 75, 0.4)",
           "rgba(140, 86, 75, 0.4)",
           "rgba(214, 39, 40, 0.4)",
           "rgba(140, 86, 75, 0.4)",
           "rgba(140, 86, 75, 0.4)",
           "rgba(140, 86, 75, 0.4)",
           "rgba(140, 86, 75, 0.4)",
           "rgba(140, 86, 75, 0.4)",
           "rgba(140, 86, 75, 0.4)",
           "rgba(127, 127, 127, 0.4)",
           "rgba(127, 127, 127, 0.4)",
           "rgba(127, 127, 127, 0.4)",
           "rgba(188, 189, 34, 0.4)",
           "rgba(23, 190, 207, 0.4)",
           "rgba(44, 160, 44, 0.4)",
           "rgba(44, 160, 44, 0.4)",
           "rgba(44, 160, 44, 0.4)",
           "rgba(44, 160, 44, 0.4)",
           "rgba(44, 160, 44, 0.4)",
           "rgba(44, 160, 44, 0.4)",
           "rgba(44, 160, 44, 0.4)",
           "rgba(44, 160, 44, 0.4)",
           "rgba(148, 103, 189, 0.4)",
           "rgba(148, 103, 189, 0.4)",
           "rgba(255,0,255, 0.4)",
           "rgba(255,0,255, 0.4)",
           "rgba(227, 119, 194, 0.4)",
           "rgba(188, 189, 34, 0.4)",
           "rgba(127, 127, 127, 0.4)",
           "rgba(23, 190, 207, 0.4)",
           "rgba(23, 190, 207, 0.4)",
           "rgba(31, 119, 180, 0.4)",
           "rgba(31, 119, 180, 0.4)",
           "rgba(255, 127, 14, 0.4)",
           "rgba(44, 160, 44, 0.4)",
           "rgba(214, 39, 40, 0.4)",
           "rgba(214, 39, 40, 0.4)",
           "rgba(148, 103, 189, 0.4)",
           "rgba(148, 103, 189, 0.4)",
           "rgba(148, 103, 189, 0.4)",
           "rgba(227, 119, 194, 0.4)",
           "rgba(227, 119, 194, 0.4)",
           "rgba(227, 119, 194, 0.4)",
           "rgba(148, 103, 189, 0.4)",
           "rgba(140, 86, 75, 0.4)",
           "rgba(227, 119, 194, 0.4)",
           "rgba(127, 127, 127, 0.4)",
           "rgba(255,0,255, 0.4)",
           "rgba(255,0,255, 0.4)"
          ],
          "label": [
           "stream 1",
           "",
           "",
           "",
           "stream 1",
           "",
           "",
           "",
           "",
           "",
           "",
           "",
           "",
           "",
           "",
           "",
           "",
           "",
           "",
           "",
           "",
           "",
           "",
           "",
           "",
           "",
           "",
           "",
           "",
           "",
           "stream 1",
           "",
           "",
           "",
           "",
           "",
           "",
           "",
           "",
           "",
           "",
           "",
           "",
           "",
           "",
           "",
           "Old generation plant (made-up)",
           "New generation plant (made-up)",
           "",
           "",
           "",
           "",
           "",
           "",
           "",
           "",
           "",
           "",
           "",
           "",
           "",
           "",
           "",
           "",
           "",
           "",
           "",
           "",
           "",
           "",
           ""
          ],
          "source": [
           0,
           1,
           1,
           1,
           1,
           6,
           7,
           8,
           10,
           9,
           11,
           11,
           11,
           15,
           15,
           15,
           15,
           15,
           15,
           15,
           15,
           15,
           15,
           15,
           23,
           25,
           5,
           5,
           5,
           5,
           5,
           27,
           17,
           17,
           28,
           29,
           2,
           2,
           2,
           2,
           2,
           2,
           2,
           2,
           34,
           24,
           35,
           35,
           36,
           38,
           37,
           39,
           39,
           40,
           40,
           41,
           42,
           43,
           43,
           4,
           4,
           4,
           26,
           26,
           26,
           44,
           45,
           46,
           47,
           35,
           35
          ],
          "target": [
           1,
           2,
           3,
           4,
           5,
           2,
           4,
           9,
           9,
           4,
           12,
           13,
           14,
           16,
           14,
           17,
           12,
           18,
           19,
           13,
           3,
           20,
           21,
           22,
           24,
           24,
           13,
           3,
           26,
           19,
           12,
           15,
           28,
           3,
           18,
           15,
           12,
           30,
           18,
           31,
           32,
           19,
           33,
           20,
           1,
           5,
           26,
           26,
           37,
           37,
           2,
           4,
           1,
           14,
           13,
           15,
           14,
           42,
           41,
           19,
           26,
           12,
           15,
           3,
           11,
           15,
           1,
           15,
           15,
           26,
           26
          ],
          "value": [
           124.729,
           0.597,
           26.862,
           280.322,
           81.144,
           35,
           35,
           11.606,
           63.965,
           75.571,
           10.639,
           22.505,
           46.184,
           104.453,
           113.726,
           27.14,
           342.165,
           37.797,
           4.412,
           40.858,
           56.691,
           7.863,
           90.008,
           93.494,
           40.719,
           82.233,
           0.129,
           1.401,
           151.891,
           2.096,
           48.58,
           7.013,
           20.897,
           6.242,
           20.897,
           6.995,
           121.066,
           128.69,
           135.835,
           14.458,
           206.267,
           3.64,
           33.218,
           4.413,
           14.375,
           122.952,
           500,
           139.978,
           504.287,
           107.703,
           611.99,
           56.587,
           77.81,
           193.026,
           70.672,
           59.901,
           19.263,
           19.263,
           59.901,
           0.882,
           400.12,
           46.477,
           525.531,
           787.129,
           79.329,
           9.452,
           182.01,
           19.013,
           289.366,
           100,
           100
          ]
         },
         "node": {
          "color": [
           "rgba(31, 119, 180, 0.8)",
           "rgba(255, 127, 14, 0.8)",
           "rgba(44, 160, 44, 0.8)",
           "rgba(214, 39, 40, 0.8)",
           "rgba(148, 103, 189, 0.8)",
           "rgba(140, 86, 75, 0.8)",
           "rgba(227, 119, 194, 0.8)",
           "rgba(127, 127, 127, 0.8)",
           "rgba(188, 189, 34, 0.8)",
           "rgba(23, 190, 207, 0.8)",
           "rgba(31, 119, 180, 0.8)",
           "rgba(255, 127, 14, 0.8)",
           "rgba(44, 160, 44, 0.8)",
           "rgba(214, 39, 40, 0.8)",
           "rgba(148, 103, 189, 0.8)",
           "rgba(140, 86, 75, 0.8)",
           "rgba(227, 119, 194, 0.8)",
           "rgba(127, 127, 127, 0.8)",
           "rgba(188, 189, 34, 0.8)",
           "rgba(23, 190, 207, 0.8)",
           "rgba(31, 119, 180, 0.8)",
           "rgba(255, 127, 14, 0.8)",
           "rgba(44, 160, 44, 0.8)",
           "rgba(214, 39, 40, 0.8)",
           "rgba(148, 103, 189, 0.8)",
           "rgba(140, 86, 75, 0.8)",
           "rgba(227, 119, 194, 0.8)",
           "rgba(127, 127, 127, 0.8)",
           "rgba(188, 189, 34, 0.8)",
           "rgba(23, 190, 207, 0.8)",
           "rgba(31, 119, 180, 0.8)",
           "rgba(255, 127, 14, 0.8)",
           "rgba(44, 160, 44, 0.8)",
           "rgba(214, 39, 40, 0.8)",
           "rgba(148, 103, 189, 0.8)",
           "rgba(255,0,255, 0.8)",
           "rgba(227, 119, 194, 0.8)",
           "rgba(127, 127, 127, 0.8)",
           "rgba(188, 189, 34, 0.8)",
           "rgba(23, 190, 207, 0.8)",
           "rgba(31, 119, 180, 0.8)",
           "rgba(255, 127, 14, 0.8)",
           "rgba(44, 160, 44, 0.8)",
           "rgba(214, 39, 40, 0.8)",
           "rgba(148, 103, 189, 0.8)",
           "rgba(140, 86, 75, 0.8)",
           "rgba(227, 119, 194, 0.8)",
           "rgba(127, 127, 127, 0.8)"
          ],
          "label": [
           "Agricultural 'waste'",
           "Bio-conversion",
           "Liquid",
           "Losses",
           "Solid",
           "Gas",
           "Biofuel imports",
           "Biomass imports",
           "Coal imports",
           "Coal",
           "Coal reserves",
           "District heating",
           "Industry",
           "Heating and cooling - commercial",
           "Heating and cooling - homes",
           "Electricity grid",
           "Over generation / exports",
           "H2 conversion",
           "Road transport",
           "Agriculture",
           "Rail transport",
           "Lighting & appliances - commercial",
           "Lighting & appliances - homes",
           "Gas imports",
           "Ngas",
           "Gas reserves",
           "Thermal generation",
           "Geothermal",
           "H2",
           "Hydro",
           "International shipping",
           "Domestic aviation",
           "International aviation",
           "National navigation",
           "Marine algae",
           "Nuclear",
           "Oil imports",
           "Oil",
           "Oil reserves",
           "Other waste",
           "Pumped heat",
           "Solar PV",
           "Solar Thermal",
           "Solar",
           "Tidal",
           "UK land based bioenergy",
           "Wave",
           "Wind"
          ],
          "line": {
           "color": "black",
           "width": 0.5
          },
          "pad": 15,
          "thickness": 15
         },
         "type": "sankey",
         "valueformat": ".0f",
         "valuesuffix": "TWh"
        }
       ],
       "layout": {
        "font": {
         "size": 10
        },
        "template": {
         "data": {
          "bar": [
           {
            "error_x": {
             "color": "#2a3f5f"
            },
            "error_y": {
             "color": "#2a3f5f"
            },
            "marker": {
             "line": {
              "color": "#E5ECF6",
              "width": 0.5
             },
             "pattern": {
              "fillmode": "overlay",
              "size": 10,
              "solidity": 0.2
             }
            },
            "type": "bar"
           }
          ],
          "barpolar": [
           {
            "marker": {
             "line": {
              "color": "#E5ECF6",
              "width": 0.5
             },
             "pattern": {
              "fillmode": "overlay",
              "size": 10,
              "solidity": 0.2
             }
            },
            "type": "barpolar"
           }
          ],
          "carpet": [
           {
            "aaxis": {
             "endlinecolor": "#2a3f5f",
             "gridcolor": "white",
             "linecolor": "white",
             "minorgridcolor": "white",
             "startlinecolor": "#2a3f5f"
            },
            "baxis": {
             "endlinecolor": "#2a3f5f",
             "gridcolor": "white",
             "linecolor": "white",
             "minorgridcolor": "white",
             "startlinecolor": "#2a3f5f"
            },
            "type": "carpet"
           }
          ],
          "choropleth": [
           {
            "colorbar": {
             "outlinewidth": 0,
             "ticks": ""
            },
            "type": "choropleth"
           }
          ],
          "contour": [
           {
            "colorbar": {
             "outlinewidth": 0,
             "ticks": ""
            },
            "colorscale": [
             [
              0,
              "#0d0887"
             ],
             [
              0.1111111111111111,
              "#46039f"
             ],
             [
              0.2222222222222222,
              "#7201a8"
             ],
             [
              0.3333333333333333,
              "#9c179e"
             ],
             [
              0.4444444444444444,
              "#bd3786"
             ],
             [
              0.5555555555555556,
              "#d8576b"
             ],
             [
              0.6666666666666666,
              "#ed7953"
             ],
             [
              0.7777777777777778,
              "#fb9f3a"
             ],
             [
              0.8888888888888888,
              "#fdca26"
             ],
             [
              1,
              "#f0f921"
             ]
            ],
            "type": "contour"
           }
          ],
          "contourcarpet": [
           {
            "colorbar": {
             "outlinewidth": 0,
             "ticks": ""
            },
            "type": "contourcarpet"
           }
          ],
          "heatmap": [
           {
            "colorbar": {
             "outlinewidth": 0,
             "ticks": ""
            },
            "colorscale": [
             [
              0,
              "#0d0887"
             ],
             [
              0.1111111111111111,
              "#46039f"
             ],
             [
              0.2222222222222222,
              "#7201a8"
             ],
             [
              0.3333333333333333,
              "#9c179e"
             ],
             [
              0.4444444444444444,
              "#bd3786"
             ],
             [
              0.5555555555555556,
              "#d8576b"
             ],
             [
              0.6666666666666666,
              "#ed7953"
             ],
             [
              0.7777777777777778,
              "#fb9f3a"
             ],
             [
              0.8888888888888888,
              "#fdca26"
             ],
             [
              1,
              "#f0f921"
             ]
            ],
            "type": "heatmap"
           }
          ],
          "heatmapgl": [
           {
            "colorbar": {
             "outlinewidth": 0,
             "ticks": ""
            },
            "colorscale": [
             [
              0,
              "#0d0887"
             ],
             [
              0.1111111111111111,
              "#46039f"
             ],
             [
              0.2222222222222222,
              "#7201a8"
             ],
             [
              0.3333333333333333,
              "#9c179e"
             ],
             [
              0.4444444444444444,
              "#bd3786"
             ],
             [
              0.5555555555555556,
              "#d8576b"
             ],
             [
              0.6666666666666666,
              "#ed7953"
             ],
             [
              0.7777777777777778,
              "#fb9f3a"
             ],
             [
              0.8888888888888888,
              "#fdca26"
             ],
             [
              1,
              "#f0f921"
             ]
            ],
            "type": "heatmapgl"
           }
          ],
          "histogram": [
           {
            "marker": {
             "pattern": {
              "fillmode": "overlay",
              "size": 10,
              "solidity": 0.2
             }
            },
            "type": "histogram"
           }
          ],
          "histogram2d": [
           {
            "colorbar": {
             "outlinewidth": 0,
             "ticks": ""
            },
            "colorscale": [
             [
              0,
              "#0d0887"
             ],
             [
              0.1111111111111111,
              "#46039f"
             ],
             [
              0.2222222222222222,
              "#7201a8"
             ],
             [
              0.3333333333333333,
              "#9c179e"
             ],
             [
              0.4444444444444444,
              "#bd3786"
             ],
             [
              0.5555555555555556,
              "#d8576b"
             ],
             [
              0.6666666666666666,
              "#ed7953"
             ],
             [
              0.7777777777777778,
              "#fb9f3a"
             ],
             [
              0.8888888888888888,
              "#fdca26"
             ],
             [
              1,
              "#f0f921"
             ]
            ],
            "type": "histogram2d"
           }
          ],
          "histogram2dcontour": [
           {
            "colorbar": {
             "outlinewidth": 0,
             "ticks": ""
            },
            "colorscale": [
             [
              0,
              "#0d0887"
             ],
             [
              0.1111111111111111,
              "#46039f"
             ],
             [
              0.2222222222222222,
              "#7201a8"
             ],
             [
              0.3333333333333333,
              "#9c179e"
             ],
             [
              0.4444444444444444,
              "#bd3786"
             ],
             [
              0.5555555555555556,
              "#d8576b"
             ],
             [
              0.6666666666666666,
              "#ed7953"
             ],
             [
              0.7777777777777778,
              "#fb9f3a"
             ],
             [
              0.8888888888888888,
              "#fdca26"
             ],
             [
              1,
              "#f0f921"
             ]
            ],
            "type": "histogram2dcontour"
           }
          ],
          "mesh3d": [
           {
            "colorbar": {
             "outlinewidth": 0,
             "ticks": ""
            },
            "type": "mesh3d"
           }
          ],
          "parcoords": [
           {
            "line": {
             "colorbar": {
              "outlinewidth": 0,
              "ticks": ""
             }
            },
            "type": "parcoords"
           }
          ],
          "pie": [
           {
            "automargin": true,
            "type": "pie"
           }
          ],
          "scatter": [
           {
            "fillpattern": {
             "fillmode": "overlay",
             "size": 10,
             "solidity": 0.2
            },
            "type": "scatter"
           }
          ],
          "scatter3d": [
           {
            "line": {
             "colorbar": {
              "outlinewidth": 0,
              "ticks": ""
             }
            },
            "marker": {
             "colorbar": {
              "outlinewidth": 0,
              "ticks": ""
             }
            },
            "type": "scatter3d"
           }
          ],
          "scattercarpet": [
           {
            "marker": {
             "colorbar": {
              "outlinewidth": 0,
              "ticks": ""
             }
            },
            "type": "scattercarpet"
           }
          ],
          "scattergeo": [
           {
            "marker": {
             "colorbar": {
              "outlinewidth": 0,
              "ticks": ""
             }
            },
            "type": "scattergeo"
           }
          ],
          "scattergl": [
           {
            "marker": {
             "colorbar": {
              "outlinewidth": 0,
              "ticks": ""
             }
            },
            "type": "scattergl"
           }
          ],
          "scattermapbox": [
           {
            "marker": {
             "colorbar": {
              "outlinewidth": 0,
              "ticks": ""
             }
            },
            "type": "scattermapbox"
           }
          ],
          "scatterpolar": [
           {
            "marker": {
             "colorbar": {
              "outlinewidth": 0,
              "ticks": ""
             }
            },
            "type": "scatterpolar"
           }
          ],
          "scatterpolargl": [
           {
            "marker": {
             "colorbar": {
              "outlinewidth": 0,
              "ticks": ""
             }
            },
            "type": "scatterpolargl"
           }
          ],
          "scatterternary": [
           {
            "marker": {
             "colorbar": {
              "outlinewidth": 0,
              "ticks": ""
             }
            },
            "type": "scatterternary"
           }
          ],
          "surface": [
           {
            "colorbar": {
             "outlinewidth": 0,
             "ticks": ""
            },
            "colorscale": [
             [
              0,
              "#0d0887"
             ],
             [
              0.1111111111111111,
              "#46039f"
             ],
             [
              0.2222222222222222,
              "#7201a8"
             ],
             [
              0.3333333333333333,
              "#9c179e"
             ],
             [
              0.4444444444444444,
              "#bd3786"
             ],
             [
              0.5555555555555556,
              "#d8576b"
             ],
             [
              0.6666666666666666,
              "#ed7953"
             ],
             [
              0.7777777777777778,
              "#fb9f3a"
             ],
             [
              0.8888888888888888,
              "#fdca26"
             ],
             [
              1,
              "#f0f921"
             ]
            ],
            "type": "surface"
           }
          ],
          "table": [
           {
            "cells": {
             "fill": {
              "color": "#EBF0F8"
             },
             "line": {
              "color": "white"
             }
            },
            "header": {
             "fill": {
              "color": "#C8D4E3"
             },
             "line": {
              "color": "white"
             }
            },
            "type": "table"
           }
          ]
         },
         "layout": {
          "annotationdefaults": {
           "arrowcolor": "#2a3f5f",
           "arrowhead": 0,
           "arrowwidth": 1
          },
          "autotypenumbers": "strict",
          "coloraxis": {
           "colorbar": {
            "outlinewidth": 0,
            "ticks": ""
           }
          },
          "colorscale": {
           "diverging": [
            [
             0,
             "#8e0152"
            ],
            [
             0.1,
             "#c51b7d"
            ],
            [
             0.2,
             "#de77ae"
            ],
            [
             0.3,
             "#f1b6da"
            ],
            [
             0.4,
             "#fde0ef"
            ],
            [
             0.5,
             "#f7f7f7"
            ],
            [
             0.6,
             "#e6f5d0"
            ],
            [
             0.7,
             "#b8e186"
            ],
            [
             0.8,
             "#7fbc41"
            ],
            [
             0.9,
             "#4d9221"
            ],
            [
             1,
             "#276419"
            ]
           ],
           "sequential": [
            [
             0,
             "#0d0887"
            ],
            [
             0.1111111111111111,
             "#46039f"
            ],
            [
             0.2222222222222222,
             "#7201a8"
            ],
            [
             0.3333333333333333,
             "#9c179e"
            ],
            [
             0.4444444444444444,
             "#bd3786"
            ],
            [
             0.5555555555555556,
             "#d8576b"
            ],
            [
             0.6666666666666666,
             "#ed7953"
            ],
            [
             0.7777777777777778,
             "#fb9f3a"
            ],
            [
             0.8888888888888888,
             "#fdca26"
            ],
            [
             1,
             "#f0f921"
            ]
           ],
           "sequentialminus": [
            [
             0,
             "#0d0887"
            ],
            [
             0.1111111111111111,
             "#46039f"
            ],
            [
             0.2222222222222222,
             "#7201a8"
            ],
            [
             0.3333333333333333,
             "#9c179e"
            ],
            [
             0.4444444444444444,
             "#bd3786"
            ],
            [
             0.5555555555555556,
             "#d8576b"
            ],
            [
             0.6666666666666666,
             "#ed7953"
            ],
            [
             0.7777777777777778,
             "#fb9f3a"
            ],
            [
             0.8888888888888888,
             "#fdca26"
            ],
            [
             1,
             "#f0f921"
            ]
           ]
          },
          "colorway": [
           "#636efa",
           "#EF553B",
           "#00cc96",
           "#ab63fa",
           "#FFA15A",
           "#19d3f3",
           "#FF6692",
           "#B6E880",
           "#FF97FF",
           "#FECB52"
          ],
          "font": {
           "color": "#2a3f5f"
          },
          "geo": {
           "bgcolor": "white",
           "lakecolor": "white",
           "landcolor": "#E5ECF6",
           "showlakes": true,
           "showland": true,
           "subunitcolor": "white"
          },
          "hoverlabel": {
           "align": "left"
          },
          "hovermode": "closest",
          "mapbox": {
           "style": "light"
          },
          "paper_bgcolor": "white",
          "plot_bgcolor": "#E5ECF6",
          "polar": {
           "angularaxis": {
            "gridcolor": "white",
            "linecolor": "white",
            "ticks": ""
           },
           "bgcolor": "#E5ECF6",
           "radialaxis": {
            "gridcolor": "white",
            "linecolor": "white",
            "ticks": ""
           }
          },
          "scene": {
           "xaxis": {
            "backgroundcolor": "#E5ECF6",
            "gridcolor": "white",
            "gridwidth": 2,
            "linecolor": "white",
            "showbackground": true,
            "ticks": "",
            "zerolinecolor": "white"
           },
           "yaxis": {
            "backgroundcolor": "#E5ECF6",
            "gridcolor": "white",
            "gridwidth": 2,
            "linecolor": "white",
            "showbackground": true,
            "ticks": "",
            "zerolinecolor": "white"
           },
           "zaxis": {
            "backgroundcolor": "#E5ECF6",
            "gridcolor": "white",
            "gridwidth": 2,
            "linecolor": "white",
            "showbackground": true,
            "ticks": "",
            "zerolinecolor": "white"
           }
          },
          "shapedefaults": {
           "line": {
            "color": "#2a3f5f"
           }
          },
          "ternary": {
           "aaxis": {
            "gridcolor": "white",
            "linecolor": "white",
            "ticks": ""
           },
           "baxis": {
            "gridcolor": "white",
            "linecolor": "white",
            "ticks": ""
           },
           "bgcolor": "#E5ECF6",
           "caxis": {
            "gridcolor": "white",
            "linecolor": "white",
            "ticks": ""
           }
          },
          "title": {
           "x": 0.05
          },
          "xaxis": {
           "automargin": true,
           "gridcolor": "white",
           "linecolor": "white",
           "ticks": "",
           "title": {
            "standoff": 15
           },
           "zerolinecolor": "white",
           "zerolinewidth": 2
          },
          "yaxis": {
           "automargin": true,
           "gridcolor": "white",
           "linecolor": "white",
           "ticks": "",
           "title": {
            "standoff": 15
           },
           "zerolinecolor": "white",
           "zerolinewidth": 2
          }
         }
        },
        "title": {
         "text": "Energy forecast for 2050<br>Source: Department of Energy & Climate Change, Tom Counsell via <a href='https://bost.ocks.org/mike/sankey/'>Mike Bostock</a>"
        }
       }
      }
     },
     "metadata": {},
     "output_type": "display_data"
    }
   ],
   "source": [
    "import plotly.graph_objects as go\n",
    "import urllib, json\n",
    "\n",
    "# url = 'https://raw.githubusercontent.com/plotly/plotly.js/master/test/image/mocks/sankey_energy.json'\n",
    "# response = urllib.request.urlopen(url)\n",
    "# data = json.loads(response.read())\n",
    "\n",
    "# override gray link colors with 'source' colors\n",
    "opacity = 0.4\n",
    "# change 'magenta' to its 'rgba' value to add opacity\n",
    "data['data'][0]['node']['color'] = ['rgba(255,0,255, 0.8)' if color == \"magenta\" else color for color in data['data'][0]['node']['color']]\n",
    "print(data['data'][0]['node']['color'])\n",
    "data['data'][0]['link']['color'] = [data['data'][0]['node']['color'][src].replace(\"0.8\", str(opacity)) for src in data['data'][0]['link']['source']]\n",
    "\n",
    "fig = go.Figure(data=[go.Sankey(\n",
    "    valueformat = \".0f\",\n",
    "    valuesuffix = \"TWh\",\n",
    "    # Define nodes\n",
    "    node = dict(\n",
    "      pad = 15,\n",
    "      thickness = 15,\n",
    "      line = dict(color = \"black\", width = 0.5),\n",
    "      label =  data['data'][0]['node']['label'],\n",
    "      color =  data['data'][0]['node']['color']\n",
    "    ),\n",
    "    # Add links\n",
    "    link = dict(\n",
    "      source =  data['data'][0]['link']['source'],\n",
    "      target =  data['data'][0]['link']['target'],\n",
    "      value =  data['data'][0]['link']['value'],\n",
    "      label =  data['data'][0]['link']['label'],\n",
    "      color =  data['data'][0]['link']['color']\n",
    "))])\n",
    "\n",
    "fig.update_layout(title_text=\"Energy forecast for 2050<br>Source: Department of Energy & Climate Change, Tom Counsell via <a href='https://bost.ocks.org/mike/sankey/'>Mike Bostock</a>\", font_size=10)\n",
    "fig.show()"
   ]
  }
 ],
 "metadata": {
  "kernelspec": {
   "display_name": "venv",
   "language": "python",
   "name": "python3"
  },
  "language_info": {
   "codemirror_mode": {
    "name": "ipython",
    "version": 3
   },
   "file_extension": ".py",
   "mimetype": "text/x-python",
   "name": "python",
   "nbconvert_exporter": "python",
   "pygments_lexer": "ipython3",
   "version": "3.10.0"
  },
  "orig_nbformat": 4
 },
 "nbformat": 4,
 "nbformat_minor": 2
}
