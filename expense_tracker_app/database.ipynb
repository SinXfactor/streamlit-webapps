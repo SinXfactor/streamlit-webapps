{
 "cells": [
  {
   "cell_type": "code",
   "execution_count": 49,
   "metadata": {},
   "outputs": [],
   "source": [
    "import os\n",
    "from deta import Deta\n",
    "from dotenv import load_dotenv\n",
    "import sqlite3\n",
    "import pandas as pd"
   ]
  },
  {
   "attachments": {},
   "cell_type": "markdown",
   "metadata": {},
   "source": [
    "### Loading DB key"
   ]
  },
  {
   "cell_type": "code",
   "execution_count": 2,
   "metadata": {},
   "outputs": [],
   "source": [
    "load_dotenv(\".env\")\n",
    "DETA_KEY = os.getenv(\"DETA_KEY\")"
   ]
  },
  {
   "attachments": {},
   "cell_type": "markdown",
   "metadata": {},
   "source": [
    "### Initializing DB key"
   ]
  },
  {
   "cell_type": "code",
   "execution_count": 3,
   "metadata": {},
   "outputs": [],
   "source": [
    "deta = Deta(DETA_KEY)"
   ]
  },
  {
   "attachments": {},
   "cell_type": "markdown",
   "metadata": {},
   "source": [
    "### Initializing DB"
   ]
  },
  {
   "cell_type": "code",
   "execution_count": 4,
   "metadata": {},
   "outputs": [],
   "source": [
    "db = deta.Base(\"exp_tracker_app\")"
   ]
  },
  {
   "attachments": {},
   "cell_type": "markdown",
   "metadata": {},
   "source": [
    "### DB functions"
   ]
  },
  {
   "cell_type": "code",
   "execution_count": 5,
   "metadata": {},
   "outputs": [],
   "source": [
    "def insert_period(period, incomes, expenses, comment):\n",
    "    \"\"\"Returns monthly report\"\"\"\n",
    "    return db.put({\"key\": period, \"incomes\": incomes, \"expenses\": expenses, \"comment\": comment})\n",
    "\n",
    "def fetch_all_periods():\n",
    "    \"\"\"Returns a dict of all periods\"\"\"\n",
    "    res = db.fetch()\n",
    "    return res.items\n",
    "\n",
    "def get_period(period):\n",
    "    return db.get(period)"
   ]
  },
  {
   "cell_type": "markdown",
   "metadata": {},
   "source": [
    "### Example data"
   ]
  },
  {
   "cell_type": "code",
   "execution_count": 6,
   "metadata": {},
   "outputs": [],
   "source": [
    "period = \"2022_May\"\n",
    "comment = \"init\"\n",
    "incomes = {'Salary': 1500, 'Dividend': 500, 'Invest Return': 100}\n",
    "expenses = {'Food': 200, 'Loan': 300, 'CC Bill': 30}"
   ]
  },
  {
   "attachments": {},
   "cell_type": "markdown",
   "metadata": {},
   "source": [
    "#### DB inserting example data"
   ]
  },
  {
   "cell_type": "code",
   "execution_count": 7,
   "metadata": {},
   "outputs": [
    {
     "data": {
      "text/plain": [
       "{'comment': 'init',\n",
       " 'expenses': {'CC Bill': 30, 'Food': 200, 'Loan': 300},\n",
       " 'incomes': {'Dividend': 500, 'Invest Return': 100, 'Salary': 1500},\n",
       " 'key': '2022_May'}"
      ]
     },
     "execution_count": 7,
     "metadata": {},
     "output_type": "execute_result"
    }
   ],
   "source": [
    "insert_period(period, incomes, expenses, comment)"
   ]
  },
  {
   "attachments": {},
   "cell_type": "markdown",
   "metadata": {},
   "source": [
    "#### Fetching all data from DB"
   ]
  },
  {
   "cell_type": "code",
   "execution_count": 8,
   "metadata": {},
   "outputs": [
    {
     "data": {
      "text/plain": [
       "[{'comment': 'init',\n",
       "  'expenses': {'CC Bill': 30, 'Food': 200, 'Loan': 300},\n",
       "  'incomes': {'Dividend': 500, 'Invest Return': 100, 'Salary': 1500},\n",
       "  'key': '2022_May'},\n",
       " {'comment': 'first entry',\n",
       "  'expenses': {'CC Bill': 30, 'Food': 40, 'Loan': 170, 'Others': 200},\n",
       "  'incomes': {'Dividend': 10, 'Invest Return': 20, 'Salary': 450},\n",
       "  'key': '2023_January'}]"
      ]
     },
     "execution_count": 8,
     "metadata": {},
     "output_type": "execute_result"
    }
   ],
   "source": [
    "fetch_all_periods()"
   ]
  },
  {
   "attachments": {},
   "cell_type": "markdown",
   "metadata": {},
   "source": [
    "#### Fetching single period data from DB"
   ]
  },
  {
   "cell_type": "code",
   "execution_count": 9,
   "metadata": {},
   "outputs": [
    {
     "data": {
      "text/plain": [
       "{'comment': 'init',\n",
       " 'expenses': {'CC Bill': 30, 'Food': 200, 'Loan': 300},\n",
       " 'incomes': {'Dividend': 500, 'Invest Return': 100, 'Salary': 1500},\n",
       " 'key': '2022_May'}"
      ]
     },
     "execution_count": 9,
     "metadata": {},
     "output_type": "execute_result"
    }
   ],
   "source": [
    "get_period(\"2022_May\")"
   ]
  },
  {
   "cell_type": "code",
   "execution_count": 44,
   "metadata": {},
   "outputs": [],
   "source": [
    "db2 = deta.Base(\"wallet_db\")"
   ]
  },
  {
   "cell_type": "code",
   "execution_count": 40,
   "metadata": {},
   "outputs": [],
   "source": [
    "def insert_trans(period, date, _type, amount, wallet_id, category_id, transfer_wallet_id, trans_amount, subcategory_id, note):\n",
    "    \"\"\"Inserts daily transaction\"\"\"\n",
    "    return db2.put({'key': period, 'date': date, 'type': _type, 'amount': amount, 'wallet_id': wallet_id, 'category_id': category_id, 'transfer_wallet_id': transfer_wallet_id, 'trans_amount': trans_amount, 'subcategory_id': subcategory_id, 'note': note})\n",
    "\n",
    "def fetch_all_trans():\n",
    "    \"\"\"Returns a dict of all periods\"\"\"\n",
    "    res = db2.fetch()\n",
    "    return res.items\n",
    "\n",
    "# def get_period(period):\n",
    "#     \"\"\"Returns monthly report\"\"\"\n",
    "#     return db.get(period)"
   ]
  },
  {
   "cell_type": "code",
   "execution_count": 39,
   "metadata": {},
   "outputs": [
    {
     "data": {
      "text/plain": [
       "{'amount': 10,\n",
       " 'category_id': 2,\n",
       " 'date': '24/06/2023',\n",
       " 'key': 'Jun-23',\n",
       " 'note': 'test',\n",
       " 'subcategory_id': 0,\n",
       " 'trans_amount': 0,\n",
       " 'transfer_wallet_id': -1,\n",
       " 'type': 'inc',\n",
       " 'wallet_id': 1}"
      ]
     },
     "execution_count": 39,
     "metadata": {},
     "output_type": "execute_result"
    }
   ],
   "source": [
    "insert_trans('Jun-23', '24/06/2023', 'inc', 10, 1, 2, -1, 0, 0, 'test')"
   ]
  },
  {
   "cell_type": "code",
   "execution_count": 45,
   "metadata": {},
   "outputs": [
    {
     "data": {
      "text/plain": [
       "[{'amount': 10,\n",
       "  'category_id': 2,\n",
       "  'date': '24/06/2023',\n",
       "  'key': 'Jun-23',\n",
       "  'note': 'test',\n",
       "  'subcategory_id': 0,\n",
       "  'trans_amount': 0,\n",
       "  'transfer_wallet_id': -1,\n",
       "  'type': 'inc',\n",
       "  'wallet_id': 1}]"
      ]
     },
     "execution_count": 45,
     "metadata": {},
     "output_type": "execute_result"
    }
   ],
   "source": [
    "fetch_all_trans()"
   ]
  },
  {
   "cell_type": "code",
   "execution_count": 50,
   "metadata": {},
   "outputs": [
    {
     "data": {
      "text/html": [
       "<div>\n",
       "<style scoped>\n",
       "    .dataframe tbody tr th:only-of-type {\n",
       "        vertical-align: middle;\n",
       "    }\n",
       "\n",
       "    .dataframe tbody tr th {\n",
       "        vertical-align: top;\n",
       "    }\n",
       "\n",
       "    .dataframe thead th {\n",
       "        text-align: right;\n",
       "    }\n",
       "</style>\n",
       "<table border=\"1\" class=\"dataframe\">\n",
       "  <thead>\n",
       "    <tr style=\"text-align: right;\">\n",
       "      <th></th>\n",
       "      <th>date_time</th>\n",
       "      <th>type</th>\n",
       "      <th>amount</th>\n",
       "      <th>wallet_id</th>\n",
       "      <th>category_id</th>\n",
       "      <th>transfer_wallet_id</th>\n",
       "      <th>trans_amount</th>\n",
       "      <th>subcategory_id</th>\n",
       "      <th>note</th>\n",
       "    </tr>\n",
       "  </thead>\n",
       "  <tbody>\n",
       "    <tr>\n",
       "      <th>0</th>\n",
       "      <td>2020-08-31</td>\n",
       "      <td>exp</td>\n",
       "      <td>-50.0</td>\n",
       "      <td>1</td>\n",
       "      <td>30</td>\n",
       "      <td>-1</td>\n",
       "      <td>0.0</td>\n",
       "      <td>0</td>\n",
       "      <td></td>\n",
       "    </tr>\n",
       "    <tr>\n",
       "      <th>1</th>\n",
       "      <td>2020-09-02</td>\n",
       "      <td>inc</td>\n",
       "      <td>25.0</td>\n",
       "      <td>2</td>\n",
       "      <td>34</td>\n",
       "      <td>-1</td>\n",
       "      <td>0.0</td>\n",
       "      <td>0</td>\n",
       "      <td></td>\n",
       "    </tr>\n",
       "    <tr>\n",
       "      <th>2</th>\n",
       "      <td>2020-09-02</td>\n",
       "      <td>exp</td>\n",
       "      <td>-50.0</td>\n",
       "      <td>5</td>\n",
       "      <td>30</td>\n",
       "      <td>-1</td>\n",
       "      <td>0.0</td>\n",
       "      <td>0</td>\n",
       "      <td></td>\n",
       "    </tr>\n",
       "    <tr>\n",
       "      <th>3</th>\n",
       "      <td>2020-09-02</td>\n",
       "      <td>exp</td>\n",
       "      <td>-49.0</td>\n",
       "      <td>2</td>\n",
       "      <td>32</td>\n",
       "      <td>-1</td>\n",
       "      <td>0.0</td>\n",
       "      <td>0</td>\n",
       "      <td>mama chhoto</td>\n",
       "    </tr>\n",
       "    <tr>\n",
       "      <th>4</th>\n",
       "      <td>2020-09-02</td>\n",
       "      <td>inc</td>\n",
       "      <td>50.0</td>\n",
       "      <td>1</td>\n",
       "      <td>33</td>\n",
       "      <td>-1</td>\n",
       "      <td>0.0</td>\n",
       "      <td>0</td>\n",
       "      <td>mama chhoto</td>\n",
       "    </tr>\n",
       "    <tr>\n",
       "      <th>...</th>\n",
       "      <td>...</td>\n",
       "      <td>...</td>\n",
       "      <td>...</td>\n",
       "      <td>...</td>\n",
       "      <td>...</td>\n",
       "      <td>...</td>\n",
       "      <td>...</td>\n",
       "      <td>...</td>\n",
       "      <td>...</td>\n",
       "    </tr>\n",
       "    <tr>\n",
       "      <th>2249</th>\n",
       "      <td>2023-06-07</td>\n",
       "      <td>exp</td>\n",
       "      <td>-24.0</td>\n",
       "      <td>11</td>\n",
       "      <td>6</td>\n",
       "      <td>-1</td>\n",
       "      <td>0.0</td>\n",
       "      <td>0</td>\n",
       "      <td>canteen</td>\n",
       "    </tr>\n",
       "    <tr>\n",
       "      <th>2250</th>\n",
       "      <td>2023-06-08</td>\n",
       "      <td>exp</td>\n",
       "      <td>-146.0</td>\n",
       "      <td>11</td>\n",
       "      <td>11</td>\n",
       "      <td>-1</td>\n",
       "      <td>0.0</td>\n",
       "      <td>0</td>\n",
       "      <td>me+dk - ezee35+basmatiRice65+aloo10+haldi36</td>\n",
       "    </tr>\n",
       "    <tr>\n",
       "      <th>2251</th>\n",
       "      <td>2023-06-09</td>\n",
       "      <td>exp</td>\n",
       "      <td>-32.0</td>\n",
       "      <td>11</td>\n",
       "      <td>6</td>\n",
       "      <td>-1</td>\n",
       "      <td>0.0</td>\n",
       "      <td>0</td>\n",
       "      <td>canteen</td>\n",
       "    </tr>\n",
       "    <tr>\n",
       "      <th>2252</th>\n",
       "      <td>2023-06-10</td>\n",
       "      <td>exp</td>\n",
       "      <td>-20.0</td>\n",
       "      <td>11</td>\n",
       "      <td>6</td>\n",
       "      <td>-1</td>\n",
       "      <td>0.0</td>\n",
       "      <td>0</td>\n",
       "      <td>me+dk-fuchka</td>\n",
       "    </tr>\n",
       "    <tr>\n",
       "      <th>2253</th>\n",
       "      <td>2023-06-10</td>\n",
       "      <td>exp</td>\n",
       "      <td>-225.0</td>\n",
       "      <td>11</td>\n",
       "      <td>11</td>\n",
       "      <td>-1</td>\n",
       "      <td>0.0</td>\n",
       "      <td>0</td>\n",
       "      <td>me+dk - bhujia20(dk)+dalBiji20(me)+poha35+eggs...</td>\n",
       "    </tr>\n",
       "  </tbody>\n",
       "</table>\n",
       "<p>2254 rows × 9 columns</p>\n",
       "</div>"
      ],
      "text/plain": [
       "       date_time type  amount  wallet_id  category_id  transfer_wallet_id  \\\n",
       "0     2020-08-31  exp   -50.0          1           30                  -1   \n",
       "1     2020-09-02  inc    25.0          2           34                  -1   \n",
       "2     2020-09-02  exp   -50.0          5           30                  -1   \n",
       "3     2020-09-02  exp   -49.0          2           32                  -1   \n",
       "4     2020-09-02  inc    50.0          1           33                  -1   \n",
       "...          ...  ...     ...        ...          ...                 ...   \n",
       "2249  2023-06-07  exp   -24.0         11            6                  -1   \n",
       "2250  2023-06-08  exp  -146.0         11           11                  -1   \n",
       "2251  2023-06-09  exp   -32.0         11            6                  -1   \n",
       "2252  2023-06-10  exp   -20.0         11            6                  -1   \n",
       "2253  2023-06-10  exp  -225.0         11           11                  -1   \n",
       "\n",
       "      trans_amount  subcategory_id  \\\n",
       "0              0.0               0   \n",
       "1              0.0               0   \n",
       "2              0.0               0   \n",
       "3              0.0               0   \n",
       "4              0.0               0   \n",
       "...            ...             ...   \n",
       "2249           0.0               0   \n",
       "2250           0.0               0   \n",
       "2251           0.0               0   \n",
       "2252           0.0               0   \n",
       "2253           0.0               0   \n",
       "\n",
       "                                                   note  \n",
       "0                                                        \n",
       "1                                                        \n",
       "2                                                        \n",
       "3                                           mama chhoto  \n",
       "4                                           mama chhoto  \n",
       "...                                                 ...  \n",
       "2249                                            canteen  \n",
       "2250        me+dk - ezee35+basmatiRice65+aloo10+haldi36  \n",
       "2251                                            canteen  \n",
       "2252                                       me+dk-fuchka  \n",
       "2253  me+dk - bhujia20(dk)+dalBiji20(me)+poha35+eggs...  \n",
       "\n",
       "[2254 rows x 9 columns]"
      ]
     },
     "execution_count": 50,
     "metadata": {},
     "output_type": "execute_result"
    }
   ],
   "source": [
    "dbfile = 'ignore/wallet-database.db'\n",
    "con = sqlite3.connect(dbfile)\n",
    "cur = con.cursor()\n",
    "transaction_df = pd.read_sql_query('SELECT * FROM trans', con)          #? all transactions table\n",
    "con.close()\n",
    "df = transaction_df.copy()\n",
    "df['amount'] = df['amount'].div(100).round(2)\n",
    "df['trans_amount'] = df['trans_amount'].div(100).round(2)\n",
    "df['type'] = df['type'].replace([0, 1, 2], ['inc', 'exp', 'tran'])\n",
    "df.drop(['id', 'fee_id', 'account_id', 'debt_id', 'debt_trans_id', 'memo'], axis = 1, inplace = True)\n",
    "df['date_time'] = pd.to_datetime(df[\"date_time\"], unit='ms').dt.date\n",
    "df = df[['date_time', 'type', 'amount', 'wallet_id', 'category_id', 'transfer_wallet_id', 'trans_amount', 'subcategory_id', 'note']]\n",
    "df"
   ]
  },
  {
   "cell_type": "code",
   "execution_count": 58,
   "metadata": {},
   "outputs": [
    {
     "name": "stdout",
     "output_type": "stream",
     "text": [
      "year: 2020\n",
      "month: Aug\n"
     ]
    }
   ],
   "source": [
    "year = df.iloc[0,0].strftime(\"%Y\")\n",
    "print(\"year:\", year)\n",
    "\n",
    "month = df.iloc[0,0].strftime(\"%b\")\n",
    "print(\"month:\", month)"
   ]
  },
  {
   "cell_type": "code",
   "execution_count": null,
   "metadata": {},
   "outputs": [],
   "source": []
  }
 ],
 "metadata": {
  "kernelspec": {
   "display_name": "venv",
   "language": "python",
   "name": "python3"
  },
  "language_info": {
   "codemirror_mode": {
    "name": "ipython",
    "version": 3
   },
   "file_extension": ".py",
   "mimetype": "text/x-python",
   "name": "python",
   "nbconvert_exporter": "python",
   "pygments_lexer": "ipython3",
   "version": "3.10.0"
  },
  "orig_nbformat": 4
 },
 "nbformat": 4,
 "nbformat_minor": 2
}
