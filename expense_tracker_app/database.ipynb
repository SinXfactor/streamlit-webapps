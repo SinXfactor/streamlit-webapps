{
 "cells": [
  {
   "cell_type": "code",
   "execution_count": 1,
   "metadata": {},
   "outputs": [],
   "source": [
    "import os\n",
    "from deta import Deta\n",
    "from dotenv import load_dotenv"
   ]
  },
  {
   "attachments": {},
   "cell_type": "markdown",
   "metadata": {},
   "source": [
    "### Loading DB key"
   ]
  },
  {
   "cell_type": "code",
   "execution_count": 2,
   "metadata": {},
   "outputs": [],
   "source": [
    "load_dotenv(\".env\")\n",
    "DETA_KEY = os.getenv(\"DETA_KEY\")"
   ]
  },
  {
   "attachments": {},
   "cell_type": "markdown",
   "metadata": {},
   "source": [
    "### Initializing DB key"
   ]
  },
  {
   "cell_type": "code",
   "execution_count": 3,
   "metadata": {},
   "outputs": [],
   "source": [
    "deta = Deta(DETA_KEY)"
   ]
  },
  {
   "attachments": {},
   "cell_type": "markdown",
   "metadata": {},
   "source": [
    "### Initializing DB"
   ]
  },
  {
   "cell_type": "code",
   "execution_count": 4,
   "metadata": {},
   "outputs": [],
   "source": [
    "db = deta.Base(\"exp_tracker_app\")"
   ]
  },
  {
   "attachments": {},
   "cell_type": "markdown",
   "metadata": {},
   "source": [
    "### DB functions"
   ]
  },
  {
   "cell_type": "code",
   "execution_count": 5,
   "metadata": {},
   "outputs": [],
   "source": [
    "def insert_period(period, incomes, expenses, comment):\n",
    "    \"\"\"Returns monthly report\"\"\"\n",
    "    return db.put({\"key\": period, \"incomes\": incomes, \"expenses\": expenses, \"comment\": comment})\n",
    "\n",
    "def fetch_all_periods():\n",
    "    \"\"\"Returns a dict of all periods\"\"\"\n",
    "    res = db.fetch()\n",
    "    return res.items\n",
    "\n",
    "def get_period(period):\n",
    "    return db.get(period)"
   ]
  },
  {
   "cell_type": "markdown",
   "metadata": {},
   "source": [
    "### Example data"
   ]
  },
  {
   "cell_type": "code",
   "execution_count": 6,
   "metadata": {},
   "outputs": [],
   "source": [
    "period = \"2022_May\"\n",
    "comment = \"init\"\n",
    "incomes = {'Salary': 1500, 'Dividend': 500, 'Invest Return': 100}\n",
    "expenses = {'Food': 200, 'Loan': 300, 'CC Bill': 30}"
   ]
  },
  {
   "attachments": {},
   "cell_type": "markdown",
   "metadata": {},
   "source": [
    "#### DB inserting example data"
   ]
  },
  {
   "cell_type": "code",
   "execution_count": 7,
   "metadata": {},
   "outputs": [
    {
     "data": {
      "text/plain": [
       "{'comment': 'init',\n",
       " 'expenses': {'CC Bill': 30, 'Food': 200, 'Loan': 300},\n",
       " 'incomes': {'Dividend': 500, 'Invest Return': 100, 'Salary': 1500},\n",
       " 'key': '2022_May'}"
      ]
     },
     "execution_count": 7,
     "metadata": {},
     "output_type": "execute_result"
    }
   ],
   "source": [
    "insert_period(period, incomes, expenses, comment)"
   ]
  },
  {
   "attachments": {},
   "cell_type": "markdown",
   "metadata": {},
   "source": [
    "#### Fetching all data from DB"
   ]
  },
  {
   "cell_type": "code",
   "execution_count": 8,
   "metadata": {},
   "outputs": [
    {
     "data": {
      "text/plain": [
       "[{'comment': 'init',\n",
       "  'expenses': {'CC Bill': 30, 'Food': 200, 'Loan': 300},\n",
       "  'incomes': {'Dividend': 500, 'Invest Return': 100, 'Salary': 1500},\n",
       "  'key': '2022_May'},\n",
       " {'comment': 'first entry',\n",
       "  'expenses': {'CC Bill': 30, 'Food': 40, 'Loan': 170, 'Others': 200},\n",
       "  'incomes': {'Dividend': 10, 'Invest Return': 20, 'Salary': 450},\n",
       "  'key': '2023_January'}]"
      ]
     },
     "execution_count": 8,
     "metadata": {},
     "output_type": "execute_result"
    }
   ],
   "source": [
    "fetch_all_periods()"
   ]
  },
  {
   "attachments": {},
   "cell_type": "markdown",
   "metadata": {},
   "source": [
    "#### Fetching single period data from DB"
   ]
  },
  {
   "cell_type": "code",
   "execution_count": 9,
   "metadata": {},
   "outputs": [
    {
     "data": {
      "text/plain": [
       "{'comment': 'init',\n",
       " 'expenses': {'CC Bill': 30, 'Food': 200, 'Loan': 300},\n",
       " 'incomes': {'Dividend': 500, 'Invest Return': 100, 'Salary': 1500},\n",
       " 'key': '2022_May'}"
      ]
     },
     "execution_count": 9,
     "metadata": {},
     "output_type": "execute_result"
    }
   ],
   "source": [
    "get_period(\"2022_May\")"
   ]
  },
  {
   "cell_type": "code",
   "execution_count": 30,
   "metadata": {},
   "outputs": [],
   "source": [
    "db2 = deta.Base(\"wallet_db\")"
   ]
  },
  {
   "cell_type": "code",
   "execution_count": 38,
   "metadata": {},
   "outputs": [],
   "source": [
    "def insert_trans(period, date, _type, amount, wallet_id, category_id, transfer_wallet_id, trans_amount, subcategory_id, note):\n",
    "    \"\"\"Inserts daily transaction\"\"\"\n",
    "    return db2.put({'key': period, 'date': date, 'type': _type, 'amount': amount, 'wallet_id': wallet_id, 'category_id': category_id, 'transfer_wallet_id': transfer_wallet_id, 'trans_amount': trans_amount, 'subcategory_id': subcategory_id, 'note': note})\n",
    "\n",
    "def fetch_all_trans():\n",
    "    \"\"\"Returns a dict of all periods\"\"\"\n",
    "    # res = db.fetch()\n",
    "    # return res.items\n",
    "\n",
    "# def get_period(period):\n",
    "#     \"\"\"Returns monthly report\"\"\"\n",
    "#     return db.get(period)"
   ]
  },
  {
   "cell_type": "code",
   "execution_count": 39,
   "metadata": {},
   "outputs": [
    {
     "data": {
      "text/plain": [
       "{'amount': 10,\n",
       " 'category_id': 2,\n",
       " 'date': '24/06/2023',\n",
       " 'key': 'Jun-23',\n",
       " 'note': 'test',\n",
       " 'subcategory_id': 0,\n",
       " 'trans_amount': 0,\n",
       " 'transfer_wallet_id': -1,\n",
       " 'type': 'inc',\n",
       " 'wallet_id': 1}"
      ]
     },
     "execution_count": 39,
     "metadata": {},
     "output_type": "execute_result"
    }
   ],
   "source": [
    "insert_trans('Jun-23', '24/06/2023', 'inc', 10, 1, 2, -1, 0, 0, 'test')"
   ]
  },
  {
   "cell_type": "code",
   "execution_count": null,
   "metadata": {},
   "outputs": [],
   "source": []
  }
 ],
 "metadata": {
  "kernelspec": {
   "display_name": "venv",
   "language": "python",
   "name": "python3"
  },
  "language_info": {
   "codemirror_mode": {
    "name": "ipython",
    "version": 3
   },
   "file_extension": ".py",
   "mimetype": "text/x-python",
   "name": "python",
   "nbconvert_exporter": "python",
   "pygments_lexer": "ipython3",
   "version": "3.10.0"
  },
  "orig_nbformat": 4
 },
 "nbformat": 4,
 "nbformat_minor": 2
}
