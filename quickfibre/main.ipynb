{
 "cells": [
  {
   "cell_type": "code",
   "execution_count": 1,
   "metadata": {},
   "outputs": [],
   "source": [
    "from deta import Deta\n",
    "import streamlit as st"
   ]
  },
  {
   "cell_type": "code",
   "execution_count": 2,
   "metadata": {},
   "outputs": [],
   "source": [
    "def load_data():\n",
    "    DETA_KEY = st.secrets[\"DETA_KEY\"]\n",
    "    deta = Deta(DETA_KEY)\n",
    "    db = deta.Base(\"quickfibre_db\")\n",
    "    drive = deta.Drive(\"quickfibre_drive\")\n",
    "    return db, drive\n",
    "\n",
    "conn = load_data()\n",
    "qf_db = conn[0]\n",
    "qf_drive = conn[1]"
   ]
  },
  {
   "cell_type": "code",
   "execution_count": 3,
   "metadata": {},
   "outputs": [],
   "source": [
    "insert_user = lambda username, name, password : qf_db.put({\"key\": username, \"name\": name, \"password\": password})\n",
    "\n",
    "user_data = lambda username : qf_db.get(username)\n",
    "\n",
    "all_users_data = lambda : qf_db.fetch().items\n",
    "\n",
    "update_user = lambda username, updates : qf_db.update(updates, username)\n",
    "\n",
    "delete_user = lambda username : qf_db.delete(username)"
   ]
  },
  {
   "cell_type": "code",
   "execution_count": 6,
   "metadata": {},
   "outputs": [
    {
     "data": {
      "text/plain": [
       "{'key': 'plynch', 'name': 'Peter Lynch', 'password': 'pl1234'}"
      ]
     },
     "execution_count": 6,
     "metadata": {},
     "output_type": "execute_result"
    }
   ],
   "source": [
    "insert_user(\"plynch\", \"Peter Lynch\", \"pl1234\")"
   ]
  },
  {
   "cell_type": "code",
   "execution_count": 4,
   "metadata": {},
   "outputs": [
    {
     "data": {
      "text/plain": [
       "[{'email': 'jsmith@gmail.com',\n",
       "  'key': 'jsmith',\n",
       "  'name': 'James Smith',\n",
       "  'password': '$2b$12$uxtymS23JxsLIjLnDVF90Oh/ERdc6CS5fMpTBDYQy//G95kkZ3iEu'},\n",
       " {'email': 'ppark@gmail.com',\n",
       "  'key': 'pparker',\n",
       "  'name': 'Peter Parker',\n",
       "  'password': '$2b$12$6tneZaojrhwIumWn4yAjneLpMDBbPTgTdsr8.v5CGXls.5rl7u1T.'},\n",
       " {'email': 'rbriggs@gmail.com',\n",
       "  'key': 'rbriggs',\n",
       "  'name': 'RB Riggs',\n",
       "  'password': '$2b$12$dwTcF7/kl2L3CqYsuQzUSOINUdDqRPquQwbeUu7EzNgVmCZ//OL8q'},\n",
       " {'email': 'rmiller@gmail.com',\n",
       "  'key': 'rmiller',\n",
       "  'name': 'Rebecca Miller',\n",
       "  'password': '$2b$12$g34eGRJYz5je55FYFXU4MOkT4Q1XA5awOjS8LJAm8ploZJwAdIOiS'}]"
      ]
     },
     "execution_count": 4,
     "metadata": {},
     "output_type": "execute_result"
    }
   ],
   "source": [
    "all_users_data()"
   ]
  },
  {
   "cell_type": "code",
   "execution_count": 17,
   "metadata": {},
   "outputs": [],
   "source": [
    "# delete_user(\"sinx\")"
   ]
  },
  {
   "cell_type": "code",
   "execution_count": 10,
   "metadata": {},
   "outputs": [
    {
     "data": {
      "text/plain": [
       "{'key': 'plynch', 'name': 'Peter Lynch', 'password': 'pl1234'}"
      ]
     },
     "execution_count": 10,
     "metadata": {},
     "output_type": "execute_result"
    }
   ],
   "source": [
    "user_data('plynch')"
   ]
  },
  {
   "cell_type": "code",
   "execution_count": 10,
   "metadata": {},
   "outputs": [],
   "source": [
    "update_user(\"plynch\", updates={\"name\": \"Parker Lynch\"})"
   ]
  },
  {
   "cell_type": "code",
   "execution_count": 2,
   "metadata": {},
   "outputs": [],
   "source": [
    "import yaml"
   ]
  },
  {
   "cell_type": "code",
   "execution_count": 8,
   "metadata": {},
   "outputs": [],
   "source": [
    "fname = \"data/some.yaml\"\n",
    "stream = open(fname, 'r')\n",
    "data = yaml.load(stream, Loader=yaml.FullLoader)\n",
    "\n",
    "data['instances'][0]['host'] = '1.2.3.4'\n",
    "data['instances'][0]['username'] = 'Username'\n",
    "data['instances'][0]['password'] = 'Password'\n",
    "\n",
    "with open(fname, 'w') as yaml_file:\n",
    "    yaml_file.write(yaml.dump(data, default_flow_style=False))"
   ]
  },
  {
   "cell_type": "code",
   "execution_count": 9,
   "metadata": {},
   "outputs": [
    {
     "data": {
      "text/plain": [
       "{'init_config': {},\n",
       " 'instances': [{'host': '1.2.3.4',\n",
       "   'username': 'Username',\n",
       "   'password': 'Password'}]}"
      ]
     },
     "execution_count": 9,
     "metadata": {},
     "output_type": "execute_result"
    }
   ],
   "source": [
    "data"
   ]
  },
  {
   "cell_type": "code",
   "execution_count": 11,
   "metadata": {},
   "outputs": [
    {
     "data": {
      "text/plain": [
       "{'credentials': {'usernames': {'jsmith': {'email': 'test1@gmail.com',\n",
       "    'name': 'John Smith',\n",
       "    'password': '$2b$12$w1GMnANUf5uSL9txOgl.XOMNRewvbkUJ4zUZqVsxOHSG/RTNw2Cxu'},\n",
       "   'rbriggs': {'email': 'test2@gmail.com',\n",
       "    'name': 'RB Riggs',\n",
       "    'password': '$2b$12$HsLjEiIXo0jSehKfGNfNiOXRezGdYI3PLVz10QhHk1M7NNX.44KYW'}}},\n",
       " 'cookie': {'expiry_days': 0, 'key': 'quickf_sign', 'name': 'quickf_cookie'},\n",
       " 'preauthorized': {'emails': 'melsby@gmail.com'}}"
      ]
     },
     "execution_count": 11,
     "metadata": {},
     "output_type": "execute_result"
    }
   ],
   "source": [
    "fname2 = \"data/config.yaml\"\n",
    "stream = open(fname2, 'r')\n",
    "data2 = yaml.load(stream, Loader=yaml.FullLoader)\n",
    "data2"
   ]
  },
  {
   "cell_type": "code",
   "execution_count": null,
   "metadata": {},
   "outputs": [],
   "source": [
    "new_data = {}\n",
    "\n",
    "\n",
    "with open(fname, 'w') as yaml_file:\n",
    "    yaml_file.write(yaml.dump(data, default_flow_style=False))"
   ]
  }
 ],
 "metadata": {
  "kernelspec": {
   "display_name": "venv",
   "language": "python",
   "name": "python3"
  },
  "language_info": {
   "codemirror_mode": {
    "name": "ipython",
    "version": 3
   },
   "file_extension": ".py",
   "mimetype": "text/x-python",
   "name": "python",
   "nbconvert_exporter": "python",
   "pygments_lexer": "ipython3",
   "version": "3.10.0"
  }
 },
 "nbformat": 4,
 "nbformat_minor": 2
}
