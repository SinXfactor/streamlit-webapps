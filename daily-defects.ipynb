{
 "cells": [
  {
   "cell_type": "code",
   "execution_count": 2,
   "metadata": {},
   "outputs": [],
   "source": [
    "import os\n",
    "from deta import Deta\n",
    "import pandas as pd\n",
    "import numpy as np\n",
    "from datetime import datetime\n",
    "from dotenv import load_dotenv"
   ]
  },
  {
   "attachments": {},
   "cell_type": "markdown",
   "metadata": {},
   "source": [
    "### Load DB key"
   ]
  },
  {
   "cell_type": "code",
   "execution_count": 3,
   "metadata": {},
   "outputs": [],
   "source": [
    "load_dotenv(\"expense_tracker_app/.env\")\n",
    "DETA_KEY = os.getenv(\"DETA_KEY\")"
   ]
  },
  {
   "attachments": {},
   "cell_type": "markdown",
   "metadata": {},
   "source": [
    "### Initialize DB"
   ]
  },
  {
   "cell_type": "code",
   "execution_count": 4,
   "metadata": {},
   "outputs": [],
   "source": [
    "deta = Deta(DETA_KEY)\n",
    "db = deta.Base(\"defects_db\")"
   ]
  },
  {
   "attachments": {},
   "cell_type": "markdown",
   "metadata": {},
   "source": [
    "### DB functions"
   ]
  },
  {
   "cell_type": "code",
   "execution_count": 5,
   "metadata": {},
   "outputs": [],
   "source": [
    "def upload_data(image_data, defect_type, details):\n",
    "    date_time = datetime.now()\n",
    "    date = date_time.strftime(\"%m/%d/%Y\")\n",
    "    time = date_time.strftime(\"%H:%M:%S\")\n",
    "    return db.put({\"key\": str(date_time.timestamp()), \"date\": date, \"time\": time, \"image_data\": image_data, \"defect_type\": defect_type, \"details\": details})\n",
    "\n",
    "def fetch_data(period):\n",
    "    return db.get(period)\n",
    "\n",
    "def fetch_all_data():\n",
    "    res = db.fetch()\n",
    "    return res.items"
   ]
  },
  {
   "attachments": {},
   "cell_type": "markdown",
   "metadata": {},
   "source": [
    "### Example data & upload"
   ]
  },
  {
   "cell_type": "code",
   "execution_count": 30,
   "metadata": {},
   "outputs": [
    {
     "data": {
      "text/plain": [
       "{'date': '06/29/2023',\n",
       " 'defect_type': 'Slubs',\n",
       " 'details': {'K1': '13200046', 'PO': 'P0X-2929', 'Qty': 300},\n",
       " 'image_data': 'new-img',\n",
       " 'key': '1688060929.787246',\n",
       " 'time': '23:18:49'}"
      ]
     },
     "execution_count": 30,
     "metadata": {},
     "output_type": "execute_result"
    }
   ],
   "source": [
    "# image_data = \"new-img\"\n",
    "# defect_type = \"Slubs\"\n",
    "# details = {'PO': 'P0X-2929', 'K1': '13200046', 'Qty': 300}\n",
    "# upload_data(image_data, defect_type, details)"
   ]
  },
  {
   "cell_type": "code",
   "execution_count": 10,
   "metadata": {},
   "outputs": [
    {
     "data": {
      "text/html": [
       "<div>\n",
       "<style scoped>\n",
       "    .dataframe tbody tr th:only-of-type {\n",
       "        vertical-align: middle;\n",
       "    }\n",
       "\n",
       "    .dataframe tbody tr th {\n",
       "        vertical-align: top;\n",
       "    }\n",
       "\n",
       "    .dataframe thead th {\n",
       "        text-align: right;\n",
       "    }\n",
       "</style>\n",
       "<table border=\"1\" class=\"dataframe\">\n",
       "  <thead>\n",
       "    <tr style=\"text-align: right;\">\n",
       "      <th></th>\n",
       "      <th>date</th>\n",
       "      <th>defect_type</th>\n",
       "      <th>details</th>\n",
       "      <th>image_data</th>\n",
       "      <th>key</th>\n",
       "      <th>time</th>\n",
       "    </tr>\n",
       "  </thead>\n",
       "  <tbody>\n",
       "    <tr>\n",
       "      <th>0</th>\n",
       "      <td>06/29/2023</td>\n",
       "      <td>Slubs</td>\n",
       "      <td>{'K1': '13200046', 'PO': 'P0X-2929', 'Qty': 300}</td>\n",
       "      <td>new-img</td>\n",
       "      <td>1688060007.794515</td>\n",
       "      <td>23:03:27</td>\n",
       "    </tr>\n",
       "    <tr>\n",
       "      <th>1</th>\n",
       "      <td>06/29/2023</td>\n",
       "      <td>Slubs</td>\n",
       "      <td>{'K1': '13200046', 'PO': 'P0X-2929', 'Qty': 300}</td>\n",
       "      <td>new-img</td>\n",
       "      <td>1688060929.787246</td>\n",
       "      <td>23:18:49</td>\n",
       "    </tr>\n",
       "    <tr>\n",
       "      <th>2</th>\n",
       "      <td>06/30/2023</td>\n",
       "      <td>[Slubs]</td>\n",
       "      <td>{'Customer': '', 'K1': 'A121A041', 'PO': 'F01-...</td>\n",
       "      <td>type-1</td>\n",
       "      <td>1688064235.621314</td>\n",
       "      <td>00:13:55</td>\n",
       "    </tr>\n",
       "  </tbody>\n",
       "</table>\n",
       "</div>"
      ],
      "text/plain": [
       "         date defect_type                                            details  \\\n",
       "0  06/29/2023       Slubs   {'K1': '13200046', 'PO': 'P0X-2929', 'Qty': 300}   \n",
       "1  06/29/2023       Slubs   {'K1': '13200046', 'PO': 'P0X-2929', 'Qty': 300}   \n",
       "2  06/30/2023     [Slubs]  {'Customer': '', 'K1': 'A121A041', 'PO': 'F01-...   \n",
       "\n",
       "  image_data                key      time  \n",
       "0    new-img  1688060007.794515  23:03:27  \n",
       "1    new-img  1688060929.787246  23:18:49  \n",
       "2     type-1  1688064235.621314  00:13:55  "
      ]
     },
     "execution_count": 10,
     "metadata": {},
     "output_type": "execute_result"
    }
   ],
   "source": [
    "defects_data = fetch_all_data()\n",
    "df = pd.DataFrame(defects_data)\n",
    "df"
   ]
  },
  {
   "cell_type": "code",
   "execution_count": 9,
   "metadata": {},
   "outputs": [
    {
     "data": {
      "text/plain": [
       "3"
      ]
     },
     "execution_count": 9,
     "metadata": {},
     "output_type": "execute_result"
    }
   ],
   "source": [
    "df.shape[0]"
   ]
  },
  {
   "cell_type": "code",
   "execution_count": null,
   "metadata": {},
   "outputs": [],
   "source": []
  }
 ],
 "metadata": {
  "kernelspec": {
   "display_name": "venv",
   "language": "python",
   "name": "python3"
  },
  "language_info": {
   "codemirror_mode": {
    "name": "ipython",
    "version": 3
   },
   "file_extension": ".py",
   "mimetype": "text/x-python",
   "name": "python",
   "nbconvert_exporter": "python",
   "pygments_lexer": "ipython3",
   "version": "3.10.0"
  },
  "orig_nbformat": 4
 },
 "nbformat": 4,
 "nbformat_minor": 2
}
