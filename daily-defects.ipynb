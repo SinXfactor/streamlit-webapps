{
 "cells": [
  {
   "cell_type": "code",
   "execution_count": 13,
   "metadata": {},
   "outputs": [],
   "source": [
    "import os\n",
    "from deta import Deta\n",
    "import pandas as pd\n",
    "import numpy as np\n",
    "from datetime import datetime\n",
    "from dotenv import load_dotenv"
   ]
  },
  {
   "attachments": {},
   "cell_type": "markdown",
   "metadata": {},
   "source": [
    "### Load DB key"
   ]
  },
  {
   "cell_type": "code",
   "execution_count": 5,
   "metadata": {},
   "outputs": [],
   "source": [
    "load_dotenv(\"expense_tracker_app/.env\")\n",
    "DETA_KEY = os.getenv(\"DETA_KEY\")"
   ]
  },
  {
   "attachments": {},
   "cell_type": "markdown",
   "metadata": {},
   "source": [
    "### Initialize DB"
   ]
  },
  {
   "cell_type": "code",
   "execution_count": 22,
   "metadata": {},
   "outputs": [],
   "source": [
    "deta = Deta(DETA_KEY)\n",
    "db = deta.Base(\"defects_db\")"
   ]
  },
  {
   "attachments": {},
   "cell_type": "markdown",
   "metadata": {},
   "source": [
    "### DB functions"
   ]
  },
  {
   "cell_type": "code",
   "execution_count": 27,
   "metadata": {},
   "outputs": [],
   "source": [
    "def upload_data(image_data, defect_type, details):\n",
    "    date_time = datetime.now()\n",
    "    date = date_time.strftime(\"%m/%d/%Y\")\n",
    "    time = date_time.strftime(\"%H:%M:%S\")\n",
    "    return db.put({\"key\": str(date_time.timestamp()), \"date\": date, \"time\": time, \"image_data\": image_data, \"defect_type\": defect_type, \"details\": details})\n",
    "\n",
    "def fetch_data(period):\n",
    "    return db.get(period)\n",
    "\n",
    "def fetch_all_data():\n",
    "    res = db.fetch()\n",
    "    return res.items"
   ]
  },
  {
   "attachments": {},
   "cell_type": "markdown",
   "metadata": {},
   "source": [
    "### Example data & upload"
   ]
  },
  {
   "cell_type": "code",
   "execution_count": 30,
   "metadata": {},
   "outputs": [
    {
     "data": {
      "text/plain": [
       "{'date': '06/29/2023',\n",
       " 'defect_type': 'Slubs',\n",
       " 'details': {'K1': '13200046', 'PO': 'P0X-2929', 'Qty': 300},\n",
       " 'image_data': 'new-img',\n",
       " 'key': '1688060929.787246',\n",
       " 'time': '23:18:49'}"
      ]
     },
     "execution_count": 30,
     "metadata": {},
     "output_type": "execute_result"
    }
   ],
   "source": [
    "image_data = \"new-img\"\n",
    "defect_type = \"Slubs\"\n",
    "details = {'PO': 'P0X-2929', 'K1': '13200046', 'Qty': 300}\n",
    "upload_data(image_data, defect_type, details)"
   ]
  },
  {
   "cell_type": "code",
   "execution_count": 31,
   "metadata": {},
   "outputs": [
    {
     "data": {
      "text/plain": [
       "[{'date': '06/29/2023',\n",
       "  'defect_type': 'Slubs',\n",
       "  'details': {'K1': '13200046', 'PO': 'P0X-2929', 'Qty': 300},\n",
       "  'image_data': 'new-img',\n",
       "  'key': '1688060007.794515',\n",
       "  'time': '23:03:27'},\n",
       " {'date': '06/29/2023',\n",
       "  'defect_type': 'Slubs',\n",
       "  'details': {'K1': '13200046', 'PO': 'P0X-2929', 'Qty': 300},\n",
       "  'image_data': 'new-img',\n",
       "  'key': '1688060929.787246',\n",
       "  'time': '23:18:49'}]"
      ]
     },
     "execution_count": 31,
     "metadata": {},
     "output_type": "execute_result"
    }
   ],
   "source": [
    "fetch_all_data()"
   ]
  }
 ],
 "metadata": {
  "kernelspec": {
   "display_name": "venv",
   "language": "python",
   "name": "python3"
  },
  "language_info": {
   "codemirror_mode": {
    "name": "ipython",
    "version": 3
   },
   "file_extension": ".py",
   "mimetype": "text/x-python",
   "name": "python",
   "nbconvert_exporter": "python",
   "pygments_lexer": "ipython3",
   "version": "3.10.0"
  },
  "orig_nbformat": 4
 },
 "nbformat": 4,
 "nbformat_minor": 2
}
